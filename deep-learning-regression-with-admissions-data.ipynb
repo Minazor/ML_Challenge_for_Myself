{
 "cells": [
  {
   "cell_type": "markdown",
   "id": "08fc7647",
   "metadata": {
    "papermill": {
     "duration": 0.00401,
     "end_time": "2023-10-19T09:18:19.889126",
     "exception": false,
     "start_time": "2023-10-19T09:18:19.885116",
     "status": "completed"
    },
    "tags": []
   },
   "source": [
    "# University Admission Probability Prediction Model\n",
    "\n",
    "This project creates and trains a deep learning model to predict the probability of university admission. Below, you'll find an explanation of the project's steps and how to use the code.\n",
    "\n",
    "## Steps\n",
    "\n",
    "### Data Loading\n",
    "The project uses the \"admissions_data.csv\" file, which contains various features affecting the probability of admission for students.\n",
    "\n",
    "### Data Preprocessing\n",
    "The data is split into training and test sets. Numeric data undergoes a scaling process.\n",
    "\n",
    "### Model Creation\n",
    "The deep learning model is constructed as a `Sequential` model. It consists of an input layer, hidden layers, and an output layer.\n",
    "\n",
    "### Model Training\n",
    "The model is trained on the training data, optimizing it with a loss function. Early stopping is employed to monitor and prevent overfitting.\n",
    "\n",
    "### Results Evaluation\n",
    "The model's performance is evaluated on the test data, and mean squared error (MSE) and mean absolute error (MAE) are calculated. Additionally, the R-squared value is computed.\n",
    "\n",
    "### Visualization of Results\n",
    "Graphs illustrating the model's performance during training are created and saved as \"static/images/my_plots.png.\"\n",
    "\n",
    "## Results\n",
    "\n",
    "The project yields the following results:\n",
    "\n",
    "- Mean Squared Error (MSE): 0.004264685325324535\n",
    "- Mean Absolute Error (MAE): 0.04852209985256195\n",
    "- R-squared Value: 0.808347931573698"
   ]
  },
  {
   "cell_type": "code",
   "execution_count": 1,
   "id": "c1220964",
   "metadata": {
    "_cell_guid": "b1076dfc-b9ad-4769-8c92-a6c4dae69d19",
    "_uuid": "8f2839f25d086af736a60e9eeb907d3b93b6e0e5",
    "execution": {
     "iopub.execute_input": "2023-10-19T09:18:19.900597Z",
     "iopub.status.busy": "2023-10-19T09:18:19.899704Z",
     "iopub.status.idle": "2023-10-19T09:18:20.290920Z",
     "shell.execute_reply": "2023-10-19T09:18:20.290012Z"
    },
    "papermill": {
     "duration": 0.39863,
     "end_time": "2023-10-19T09:18:20.293391",
     "exception": false,
     "start_time": "2023-10-19T09:18:19.894761",
     "status": "completed"
    },
    "tags": []
   },
   "outputs": [
    {
     "name": "stdout",
     "output_type": "stream",
     "text": [
      "/kaggle/input/graduate-admissions/Admission_Predict.csv\n",
      "/kaggle/input/graduate-admissions/Admission_Predict_Ver1.1.csv\n"
     ]
    }
   ],
   "source": [
    "# This Python 3 environment comes with many helpful analytics libraries installed\n",
    "# It is defined by the kaggle/python Docker image: https://github.com/kaggle/docker-python\n",
    "# For example, here's several helpful packages to load\n",
    "\n",
    "import numpy as np # linear algebra\n",
    "import pandas as pd # data processing, CSV file I/O (e.g. pd.read_csv)\n",
    "\n",
    "# Input data files are available in the read-only \"../input/\" directory\n",
    "# For example, running this (by clicking run or pressing Shift+Enter) will list all files under the input directory\n",
    "\n",
    "import os\n",
    "for dirname, _, filenames in os.walk('/kaggle/input'):\n",
    "    for filename in filenames:\n",
    "        print(os.path.join(dirname, filename))\n",
    "\n",
    "# You can write up to 20GB to the current directory (/kaggle/working/) that gets preserved as output when you create a version using \"Save & Run All\" \n",
    "# You can also write temporary files to /kaggle/temp/, but they won't be saved outside of the current session"
   ]
  },
  {
   "cell_type": "code",
   "execution_count": 2,
   "id": "6b470096",
   "metadata": {
    "execution": {
     "iopub.execute_input": "2023-10-19T09:18:20.303112Z",
     "iopub.status.busy": "2023-10-19T09:18:20.302599Z",
     "iopub.status.idle": "2023-10-19T09:18:32.805642Z",
     "shell.execute_reply": "2023-10-19T09:18:32.804253Z"
    },
    "papermill": {
     "duration": 12.511293,
     "end_time": "2023-10-19T09:18:32.808550",
     "exception": false,
     "start_time": "2023-10-19T09:18:20.297257",
     "status": "completed"
    },
    "tags": []
   },
   "outputs": [],
   "source": [
    "import matplotlib.pyplot as plt\n",
    "\n",
    "import tensorflow as tf\n",
    "from tensorflow\timport keras\n",
    "from tensorflow.keras.models import Sequential\n",
    "from tensorflow.keras.callbacks import EarlyStopping\n",
    "from tensorflow.keras import layers\n",
    "from tensorflow.keras.layers import InputLayer\n",
    "from tensorflow.keras.layers import Dense\n",
    "from tensorflow.keras.optimizers import Adam\n",
    "from tensorflow.keras.optimizers import SGD\n",
    "from tensorflow.keras.callbacks import EarlyStopping\n",
    "from sklearn.compose import ColumnTransformer\n",
    "from sklearn.model_selection import train_test_split\n",
    "from sklearn.preprocessing import StandardScaler\n",
    "from sklearn.preprocessing import Normalizer\n",
    "from sklearn.metrics import r2_score"
   ]
  },
  {
   "cell_type": "code",
   "execution_count": 3,
   "id": "90974a63",
   "metadata": {
    "execution": {
     "iopub.execute_input": "2023-10-19T09:18:32.818267Z",
     "iopub.status.busy": "2023-10-19T09:18:32.817579Z",
     "iopub.status.idle": "2023-10-19T09:18:32.840358Z",
     "shell.execute_reply": "2023-10-19T09:18:32.839115Z"
    },
    "papermill": {
     "duration": 0.030245,
     "end_time": "2023-10-19T09:18:32.842768",
     "exception": false,
     "start_time": "2023-10-19T09:18:32.812523",
     "status": "completed"
    },
    "tags": []
   },
   "outputs": [],
   "source": [
    "df = pd.read_csv(\"/kaggle/input/graduate-admissions/Admission_Predict.csv\")"
   ]
  },
  {
   "cell_type": "code",
   "execution_count": 4,
   "id": "f7ebc172",
   "metadata": {
    "execution": {
     "iopub.execute_input": "2023-10-19T09:18:32.851744Z",
     "iopub.status.busy": "2023-10-19T09:18:32.851377Z",
     "iopub.status.idle": "2023-10-19T09:18:32.878717Z",
     "shell.execute_reply": "2023-10-19T09:18:32.877573Z"
    },
    "papermill": {
     "duration": 0.034591,
     "end_time": "2023-10-19T09:18:32.881168",
     "exception": false,
     "start_time": "2023-10-19T09:18:32.846577",
     "status": "completed"
    },
    "tags": []
   },
   "outputs": [
    {
     "data": {
      "text/html": [
       "<div>\n",
       "<style scoped>\n",
       "    .dataframe tbody tr th:only-of-type {\n",
       "        vertical-align: middle;\n",
       "    }\n",
       "\n",
       "    .dataframe tbody tr th {\n",
       "        vertical-align: top;\n",
       "    }\n",
       "\n",
       "    .dataframe thead th {\n",
       "        text-align: right;\n",
       "    }\n",
       "</style>\n",
       "<table border=\"1\" class=\"dataframe\">\n",
       "  <thead>\n",
       "    <tr style=\"text-align: right;\">\n",
       "      <th></th>\n",
       "      <th>Serial No.</th>\n",
       "      <th>GRE Score</th>\n",
       "      <th>TOEFL Score</th>\n",
       "      <th>University Rating</th>\n",
       "      <th>SOP</th>\n",
       "      <th>LOR</th>\n",
       "      <th>CGPA</th>\n",
       "      <th>Research</th>\n",
       "      <th>Chance of Admit</th>\n",
       "    </tr>\n",
       "  </thead>\n",
       "  <tbody>\n",
       "    <tr>\n",
       "      <th>0</th>\n",
       "      <td>1</td>\n",
       "      <td>337</td>\n",
       "      <td>118</td>\n",
       "      <td>4</td>\n",
       "      <td>4.5</td>\n",
       "      <td>4.5</td>\n",
       "      <td>9.65</td>\n",
       "      <td>1</td>\n",
       "      <td>0.92</td>\n",
       "    </tr>\n",
       "    <tr>\n",
       "      <th>1</th>\n",
       "      <td>2</td>\n",
       "      <td>324</td>\n",
       "      <td>107</td>\n",
       "      <td>4</td>\n",
       "      <td>4.0</td>\n",
       "      <td>4.5</td>\n",
       "      <td>8.87</td>\n",
       "      <td>1</td>\n",
       "      <td>0.76</td>\n",
       "    </tr>\n",
       "    <tr>\n",
       "      <th>2</th>\n",
       "      <td>3</td>\n",
       "      <td>316</td>\n",
       "      <td>104</td>\n",
       "      <td>3</td>\n",
       "      <td>3.0</td>\n",
       "      <td>3.5</td>\n",
       "      <td>8.00</td>\n",
       "      <td>1</td>\n",
       "      <td>0.72</td>\n",
       "    </tr>\n",
       "    <tr>\n",
       "      <th>3</th>\n",
       "      <td>4</td>\n",
       "      <td>322</td>\n",
       "      <td>110</td>\n",
       "      <td>3</td>\n",
       "      <td>3.5</td>\n",
       "      <td>2.5</td>\n",
       "      <td>8.67</td>\n",
       "      <td>1</td>\n",
       "      <td>0.80</td>\n",
       "    </tr>\n",
       "    <tr>\n",
       "      <th>4</th>\n",
       "      <td>5</td>\n",
       "      <td>314</td>\n",
       "      <td>103</td>\n",
       "      <td>2</td>\n",
       "      <td>2.0</td>\n",
       "      <td>3.0</td>\n",
       "      <td>8.21</td>\n",
       "      <td>0</td>\n",
       "      <td>0.65</td>\n",
       "    </tr>\n",
       "  </tbody>\n",
       "</table>\n",
       "</div>"
      ],
      "text/plain": [
       "   Serial No.  GRE Score  TOEFL Score  University Rating  SOP  LOR   CGPA  \\\n",
       "0           1        337          118                  4  4.5   4.5  9.65   \n",
       "1           2        324          107                  4  4.0   4.5  8.87   \n",
       "2           3        316          104                  3  3.0   3.5  8.00   \n",
       "3           4        322          110                  3  3.5   2.5  8.67   \n",
       "4           5        314          103                  2  2.0   3.0  8.21   \n",
       "\n",
       "   Research  Chance of Admit   \n",
       "0         1              0.92  \n",
       "1         1              0.76  \n",
       "2         1              0.72  \n",
       "3         1              0.80  \n",
       "4         0              0.65  "
      ]
     },
     "execution_count": 4,
     "metadata": {},
     "output_type": "execute_result"
    }
   ],
   "source": [
    "df.head()\n"
   ]
  },
  {
   "cell_type": "code",
   "execution_count": 5,
   "id": "fbfd9c29",
   "metadata": {
    "execution": {
     "iopub.execute_input": "2023-10-19T09:18:32.891262Z",
     "iopub.status.busy": "2023-10-19T09:18:32.890211Z",
     "iopub.status.idle": "2023-10-19T09:18:32.921049Z",
     "shell.execute_reply": "2023-10-19T09:18:32.919667Z"
    },
    "papermill": {
     "duration": 0.038411,
     "end_time": "2023-10-19T09:18:32.923616",
     "exception": false,
     "start_time": "2023-10-19T09:18:32.885205",
     "status": "completed"
    },
    "tags": []
   },
   "outputs": [
    {
     "name": "stdout",
     "output_type": "stream",
     "text": [
      "<class 'pandas.core.frame.DataFrame'>\n",
      "RangeIndex: 400 entries, 0 to 399\n",
      "Data columns (total 9 columns):\n",
      " #   Column             Non-Null Count  Dtype  \n",
      "---  ------             --------------  -----  \n",
      " 0   Serial No.         400 non-null    int64  \n",
      " 1   GRE Score          400 non-null    int64  \n",
      " 2   TOEFL Score        400 non-null    int64  \n",
      " 3   University Rating  400 non-null    int64  \n",
      " 4   SOP                400 non-null    float64\n",
      " 5   LOR                400 non-null    float64\n",
      " 6   CGPA               400 non-null    float64\n",
      " 7   Research           400 non-null    int64  \n",
      " 8   Chance of Admit    400 non-null    float64\n",
      "dtypes: float64(4), int64(5)\n",
      "memory usage: 28.2 KB\n"
     ]
    }
   ],
   "source": [
    "df.info()"
   ]
  },
  {
   "cell_type": "code",
   "execution_count": 6,
   "id": "c4741b84",
   "metadata": {
    "execution": {
     "iopub.execute_input": "2023-10-19T09:18:32.933437Z",
     "iopub.status.busy": "2023-10-19T09:18:32.933013Z",
     "iopub.status.idle": "2023-10-19T09:18:32.943250Z",
     "shell.execute_reply": "2023-10-19T09:18:32.941989Z"
    },
    "papermill": {
     "duration": 0.01804,
     "end_time": "2023-10-19T09:18:32.945607",
     "exception": false,
     "start_time": "2023-10-19T09:18:32.927567",
     "status": "completed"
    },
    "tags": []
   },
   "outputs": [],
   "source": [
    "features = df.drop(columns=['Serial No.','Chance of Admit '])\n",
    "labels = df.iloc[:,-1]"
   ]
  },
  {
   "cell_type": "code",
   "execution_count": 7,
   "id": "68553c50",
   "metadata": {
    "execution": {
     "iopub.execute_input": "2023-10-19T09:18:32.955364Z",
     "iopub.status.busy": "2023-10-19T09:18:32.954697Z",
     "iopub.status.idle": "2023-10-19T09:18:32.962162Z",
     "shell.execute_reply": "2023-10-19T09:18:32.961179Z"
    },
    "papermill": {
     "duration": 0.015013,
     "end_time": "2023-10-19T09:18:32.964583",
     "exception": false,
     "start_time": "2023-10-19T09:18:32.949570",
     "status": "completed"
    },
    "tags": []
   },
   "outputs": [],
   "source": [
    "features_training_set,features_test_set,labels_training_set,labels_test_set = train_test_split(features,labels, test_size=0.27,random_state=42)"
   ]
  },
  {
   "cell_type": "code",
   "execution_count": 8,
   "id": "98c7c053",
   "metadata": {
    "execution": {
     "iopub.execute_input": "2023-10-19T09:18:32.974768Z",
     "iopub.status.busy": "2023-10-19T09:18:32.974419Z",
     "iopub.status.idle": "2023-10-19T09:18:32.989819Z",
     "shell.execute_reply": "2023-10-19T09:18:32.988533Z"
    },
    "papermill": {
     "duration": 0.023509,
     "end_time": "2023-10-19T09:18:32.992142",
     "exception": false,
     "start_time": "2023-10-19T09:18:32.968633",
     "status": "completed"
    },
    "tags": []
   },
   "outputs": [
    {
     "name": "stdout",
     "output_type": "stream",
     "text": [
      "[ColumnTransformer] .. (1 of 1) Processing Only numeric, total=   0.0s\n"
     ]
    }
   ],
   "source": [
    "col = features_training_set.select_dtypes(include=np.number).columns\n",
    "ct = ColumnTransformer([('Only numeric',StandardScaler(),col)],remainder='passthrough',verbose=1)\n",
    "features_train_scaled = ct.fit_transform(features_training_set)\n",
    "features_test_scaled = ct.transform(features_test_set)"
   ]
  },
  {
   "cell_type": "code",
   "execution_count": 9,
   "id": "430af10c",
   "metadata": {
    "execution": {
     "iopub.execute_input": "2023-10-19T09:18:33.002434Z",
     "iopub.status.busy": "2023-10-19T09:18:33.002071Z",
     "iopub.status.idle": "2023-10-19T09:18:33.239000Z",
     "shell.execute_reply": "2023-10-19T09:18:33.237853Z"
    },
    "papermill": {
     "duration": 0.248072,
     "end_time": "2023-10-19T09:18:33.244250",
     "exception": false,
     "start_time": "2023-10-19T09:18:32.996178",
     "status": "completed"
    },
    "tags": []
   },
   "outputs": [
    {
     "name": "stdout",
     "output_type": "stream",
     "text": [
      "Model: \"Admissions\"\n",
      "_________________________________________________________________\n",
      " Layer (type)                Output Shape              Param #   \n",
      "=================================================================\n",
      " dense (Dense)               (None, 64)                512       \n",
      "                                                                 \n",
      " dense_1 (Dense)             (None, 8)                 520       \n",
      "                                                                 \n",
      " dense_2 (Dense)             (None, 1)                 9         \n",
      "                                                                 \n",
      "=================================================================\n",
      "Total params: 1,041\n",
      "Trainable params: 1,041\n",
      "Non-trainable params: 0\n",
      "_________________________________________________________________\n",
      "None\n"
     ]
    }
   ],
   "source": [
    "my_model = Sequential(name='Admissions')\n",
    "\n",
    "input = InputLayer(input_shape=(features_train_scaled.shape[1], ))\n",
    "my_model.add(input)\n",
    "my_model.add(Dense(64,activation='relu'))\n",
    "my_model.add(Dense(8,activation='softmax'))\n",
    "my_model.add(Dense(1))\n",
    "\n",
    "opt = Adam(learning_rate=0.001)\n",
    "my_model.compile(loss='mse', metrics=['mae'], optimizer=opt)\n",
    "e_stop = EarlyStopping(monitor='val_loss',mode='min',verbose=1,patience=20)\n",
    "print(my_model.summary())"
   ]
  },
  {
   "cell_type": "code",
   "execution_count": 10,
   "id": "ce015cdd",
   "metadata": {
    "execution": {
     "iopub.execute_input": "2023-10-19T09:18:33.255304Z",
     "iopub.status.busy": "2023-10-19T09:18:33.254876Z",
     "iopub.status.idle": "2023-10-19T09:18:54.857542Z",
     "shell.execute_reply": "2023-10-19T09:18:54.856504Z"
    },
    "papermill": {
     "duration": 21.611118,
     "end_time": "2023-10-19T09:18:54.860006",
     "exception": false,
     "start_time": "2023-10-19T09:18:33.248888",
     "status": "completed"
    },
    "tags": []
   },
   "outputs": [
    {
     "name": "stdout",
     "output_type": "stream",
     "text": [
      "Epoch 1/100\n",
      "86/86 [==============================] - 1s 5ms/step - loss: 0.3770 - mae: 0.5573 - val_loss: 0.0822 - val_mae: 0.2618\n",
      "Epoch 2/100\n",
      "86/86 [==============================] - 0s 2ms/step - loss: 0.0536 - mae: 0.1897 - val_loss: 0.0205 - val_mae: 0.0948\n",
      "Epoch 3/100\n",
      "86/86 [==============================] - 0s 3ms/step - loss: 0.0204 - mae: 0.1085 - val_loss: 0.0134 - val_mae: 0.0729\n",
      "Epoch 4/100\n",
      "86/86 [==============================] - 0s 3ms/step - loss: 0.0145 - mae: 0.0895 - val_loss: 0.0106 - val_mae: 0.0619\n",
      "Epoch 5/100\n",
      "86/86 [==============================] - 0s 2ms/step - loss: 0.0117 - mae: 0.0798 - val_loss: 0.0090 - val_mae: 0.0566\n",
      "Epoch 6/100\n",
      "86/86 [==============================] - 0s 2ms/step - loss: 0.0099 - mae: 0.0739 - val_loss: 0.0076 - val_mae: 0.0519\n",
      "Epoch 7/100\n",
      "86/86 [==============================] - 0s 2ms/step - loss: 0.0084 - mae: 0.0684 - val_loss: 0.0062 - val_mae: 0.0487\n",
      "Epoch 8/100\n",
      "86/86 [==============================] - 0s 2ms/step - loss: 0.0070 - mae: 0.0624 - val_loss: 0.0048 - val_mae: 0.0430\n",
      "Epoch 9/100\n",
      "86/86 [==============================] - 0s 2ms/step - loss: 0.0060 - mae: 0.0573 - val_loss: 0.0040 - val_mae: 0.0407\n",
      "Epoch 10/100\n",
      "86/86 [==============================] - 0s 2ms/step - loss: 0.0056 - mae: 0.0536 - val_loss: 0.0038 - val_mae: 0.0406\n",
      "Epoch 11/100\n",
      "86/86 [==============================] - 0s 2ms/step - loss: 0.0053 - mae: 0.0525 - val_loss: 0.0033 - val_mae: 0.0369\n",
      "Epoch 12/100\n",
      "86/86 [==============================] - 0s 2ms/step - loss: 0.0050 - mae: 0.0510 - val_loss: 0.0029 - val_mae: 0.0340\n",
      "Epoch 13/100\n",
      "86/86 [==============================] - 0s 2ms/step - loss: 0.0048 - mae: 0.0491 - val_loss: 0.0029 - val_mae: 0.0333\n",
      "Epoch 14/100\n",
      "86/86 [==============================] - 0s 2ms/step - loss: 0.0047 - mae: 0.0486 - val_loss: 0.0028 - val_mae: 0.0336\n",
      "Epoch 15/100\n",
      "86/86 [==============================] - 0s 2ms/step - loss: 0.0046 - mae: 0.0475 - val_loss: 0.0027 - val_mae: 0.0343\n",
      "Epoch 16/100\n",
      "86/86 [==============================] - 0s 2ms/step - loss: 0.0045 - mae: 0.0474 - val_loss: 0.0026 - val_mae: 0.0316\n",
      "Epoch 17/100\n",
      "86/86 [==============================] - 0s 2ms/step - loss: 0.0044 - mae: 0.0469 - val_loss: 0.0026 - val_mae: 0.0332\n",
      "Epoch 18/100\n",
      "86/86 [==============================] - 0s 2ms/step - loss: 0.0044 - mae: 0.0461 - val_loss: 0.0023 - val_mae: 0.0307\n",
      "Epoch 19/100\n",
      "86/86 [==============================] - 0s 2ms/step - loss: 0.0043 - mae: 0.0460 - val_loss: 0.0027 - val_mae: 0.0345\n",
      "Epoch 20/100\n",
      "86/86 [==============================] - 0s 2ms/step - loss: 0.0041 - mae: 0.0451 - val_loss: 0.0026 - val_mae: 0.0340\n",
      "Epoch 21/100\n",
      "86/86 [==============================] - 0s 2ms/step - loss: 0.0041 - mae: 0.0457 - val_loss: 0.0023 - val_mae: 0.0309\n",
      "Epoch 22/100\n",
      "86/86 [==============================] - 0s 2ms/step - loss: 0.0040 - mae: 0.0431 - val_loss: 0.0028 - val_mae: 0.0366\n",
      "Epoch 23/100\n",
      "86/86 [==============================] - 0s 2ms/step - loss: 0.0039 - mae: 0.0443 - val_loss: 0.0024 - val_mae: 0.0327\n",
      "Epoch 24/100\n",
      "86/86 [==============================] - 0s 2ms/step - loss: 0.0039 - mae: 0.0437 - val_loss: 0.0022 - val_mae: 0.0314\n",
      "Epoch 25/100\n",
      "86/86 [==============================] - 0s 2ms/step - loss: 0.0038 - mae: 0.0435 - val_loss: 0.0024 - val_mae: 0.0318\n",
      "Epoch 26/100\n",
      "86/86 [==============================] - 0s 2ms/step - loss: 0.0038 - mae: 0.0427 - val_loss: 0.0025 - val_mae: 0.0328\n",
      "Epoch 27/100\n",
      "86/86 [==============================] - 0s 2ms/step - loss: 0.0036 - mae: 0.0423 - val_loss: 0.0022 - val_mae: 0.0341\n",
      "Epoch 28/100\n",
      "86/86 [==============================] - 0s 2ms/step - loss: 0.0038 - mae: 0.0427 - val_loss: 0.0026 - val_mae: 0.0348\n",
      "Epoch 29/100\n",
      "86/86 [==============================] - 0s 2ms/step - loss: 0.0037 - mae: 0.0429 - val_loss: 0.0022 - val_mae: 0.0334\n",
      "Epoch 30/100\n",
      "86/86 [==============================] - 0s 2ms/step - loss: 0.0036 - mae: 0.0425 - val_loss: 0.0021 - val_mae: 0.0315\n",
      "Epoch 31/100\n",
      "86/86 [==============================] - 0s 2ms/step - loss: 0.0035 - mae: 0.0421 - val_loss: 0.0023 - val_mae: 0.0332\n",
      "Epoch 32/100\n",
      "86/86 [==============================] - 0s 2ms/step - loss: 0.0035 - mae: 0.0410 - val_loss: 0.0024 - val_mae: 0.0346\n",
      "Epoch 33/100\n",
      "86/86 [==============================] - 0s 2ms/step - loss: 0.0035 - mae: 0.0412 - val_loss: 0.0022 - val_mae: 0.0332\n",
      "Epoch 34/100\n",
      "86/86 [==============================] - 0s 2ms/step - loss: 0.0034 - mae: 0.0409 - val_loss: 0.0025 - val_mae: 0.0347\n",
      "Epoch 35/100\n",
      "86/86 [==============================] - 0s 2ms/step - loss: 0.0035 - mae: 0.0415 - val_loss: 0.0025 - val_mae: 0.0328\n",
      "Epoch 36/100\n",
      "86/86 [==============================] - 0s 2ms/step - loss: 0.0033 - mae: 0.0405 - val_loss: 0.0023 - val_mae: 0.0336\n",
      "Epoch 37/100\n",
      "86/86 [==============================] - 0s 2ms/step - loss: 0.0034 - mae: 0.0415 - val_loss: 0.0028 - val_mae: 0.0338\n",
      "Epoch 38/100\n",
      "86/86 [==============================] - 0s 2ms/step - loss: 0.0034 - mae: 0.0414 - val_loss: 0.0027 - val_mae: 0.0354\n",
      "Epoch 39/100\n",
      "86/86 [==============================] - 0s 2ms/step - loss: 0.0033 - mae: 0.0400 - val_loss: 0.0025 - val_mae: 0.0357\n",
      "Epoch 40/100\n",
      "86/86 [==============================] - 0s 2ms/step - loss: 0.0033 - mae: 0.0400 - val_loss: 0.0033 - val_mae: 0.0401\n",
      "Epoch 41/100\n",
      "86/86 [==============================] - 0s 2ms/step - loss: 0.0033 - mae: 0.0402 - val_loss: 0.0029 - val_mae: 0.0359\n",
      "Epoch 42/100\n",
      "86/86 [==============================] - 0s 2ms/step - loss: 0.0032 - mae: 0.0401 - val_loss: 0.0024 - val_mae: 0.0340\n",
      "Epoch 43/100\n",
      "86/86 [==============================] - 0s 2ms/step - loss: 0.0031 - mae: 0.0390 - val_loss: 0.0022 - val_mae: 0.0331\n",
      "Epoch 44/100\n",
      "86/86 [==============================] - 0s 2ms/step - loss: 0.0032 - mae: 0.0404 - val_loss: 0.0022 - val_mae: 0.0342\n",
      "Epoch 45/100\n",
      "86/86 [==============================] - 0s 2ms/step - loss: 0.0031 - mae: 0.0394 - val_loss: 0.0036 - val_mae: 0.0409\n",
      "Epoch 46/100\n",
      "86/86 [==============================] - 0s 2ms/step - loss: 0.0031 - mae: 0.0393 - val_loss: 0.0026 - val_mae: 0.0354\n",
      "Epoch 47/100\n",
      "86/86 [==============================] - 0s 2ms/step - loss: 0.0032 - mae: 0.0405 - val_loss: 0.0028 - val_mae: 0.0359\n",
      "Epoch 48/100\n",
      "86/86 [==============================] - 0s 2ms/step - loss: 0.0030 - mae: 0.0391 - val_loss: 0.0026 - val_mae: 0.0348\n",
      "Epoch 49/100\n",
      "86/86 [==============================] - 0s 2ms/step - loss: 0.0031 - mae: 0.0397 - val_loss: 0.0027 - val_mae: 0.0400\n",
      "Epoch 50/100\n",
      "86/86 [==============================] - 0s 2ms/step - loss: 0.0029 - mae: 0.0383 - val_loss: 0.0028 - val_mae: 0.0340\n",
      "Epoch 50: early stopping\n"
     ]
    }
   ],
   "source": [
    "history = my_model.fit(features_train_scaled,labels_training_set,epochs=100,batch_size = 3, verbose = 1,validation_split = 0.12,callbacks=[e_stop])\n",
    "res_mse,res_mae = my_model.evaluate(features_test_scaled,labels_test_set, verbose = 0)"
   ]
  },
  {
   "cell_type": "code",
   "execution_count": 11,
   "id": "a68836fb",
   "metadata": {
    "execution": {
     "iopub.execute_input": "2023-10-19T09:18:54.899076Z",
     "iopub.status.busy": "2023-10-19T09:18:54.898670Z",
     "iopub.status.idle": "2023-10-19T09:18:54.904152Z",
     "shell.execute_reply": "2023-10-19T09:18:54.903045Z"
    },
    "papermill": {
     "duration": 0.028413,
     "end_time": "2023-10-19T09:18:54.906615",
     "exception": false,
     "start_time": "2023-10-19T09:18:54.878202",
     "status": "completed"
    },
    "tags": []
   },
   "outputs": [
    {
     "name": "stdout",
     "output_type": "stream",
     "text": [
      "MSE: 0.004320959094911814\n",
      "MAE: 0.04843058064579964\n"
     ]
    }
   ],
   "source": [
    "print(f\"MSE: {res_mse}\")\n",
    "print(f\"MAE: {res_mae}\")"
   ]
  },
  {
   "cell_type": "code",
   "execution_count": 12,
   "id": "77d2e9c3",
   "metadata": {
    "execution": {
     "iopub.execute_input": "2023-10-19T09:18:54.943987Z",
     "iopub.status.busy": "2023-10-19T09:18:54.943128Z",
     "iopub.status.idle": "2023-10-19T09:18:55.115576Z",
     "shell.execute_reply": "2023-10-19T09:18:55.114653Z"
    },
    "papermill": {
     "duration": 0.194545,
     "end_time": "2023-10-19T09:18:55.118996",
     "exception": false,
     "start_time": "2023-10-19T09:18:54.924451",
     "status": "completed"
    },
    "tags": []
   },
   "outputs": [
    {
     "name": "stdout",
     "output_type": "stream",
     "text": [
      "4/4 [==============================] - 0s 2ms/step\n",
      "0.8058190371563501\n"
     ]
    }
   ],
   "source": [
    "predicted_values = my_model.predict(features_test_scaled) \n",
    "print(r2_score(labels_test_set, predicted_values)) "
   ]
  },
  {
   "cell_type": "code",
   "execution_count": 13,
   "id": "d1610032",
   "metadata": {
    "execution": {
     "iopub.execute_input": "2023-10-19T09:18:55.163621Z",
     "iopub.status.busy": "2023-10-19T09:18:55.163247Z",
     "iopub.status.idle": "2023-10-19T09:18:55.882084Z",
     "shell.execute_reply": "2023-10-19T09:18:55.880871Z"
    },
    "papermill": {
     "duration": 0.741467,
     "end_time": "2023-10-19T09:18:55.884330",
     "exception": false,
     "start_time": "2023-10-19T09:18:55.142863",
     "status": "completed"
    },
    "tags": []
   },
   "outputs": [
    {
     "data": {
      "text/plain": [
       "Text(0.5, 0, 'epoch')"
      ]
     },
     "execution_count": 13,
     "metadata": {},
     "output_type": "execute_result"
    },
    {
     "data": {
      "image/png": "[encoded data removed]",
      "text/plain": [
       "<Figure size 640x480 with 2 Axes>"
      ]
     },
     "metadata": {},
     "output_type": "display_data"
    }
   ],
   "source": [
    "# Create and save the plots\n",
    "fig = plt.figure()\n",
    "ax1 = fig.add_subplot(2, 1, 1)\n",
    "ax1.plot(history.history['mae'])\n",
    "ax1.set_title('model mae')\n",
    "ax1.set_ylabel('MAE')\n",
    "ax1.set_xlabel('epoch')\n",
    "\n",
    "ax2 = fig.add_subplot(2, 1, 2)\n",
    "ax2.plot(history.history['loss'])\n",
    "ax2.set_title('model loss')\n",
    "ax2.set_ylabel('loss')\n",
    "ax2.set_xlabel('epoch')"
   ]
  },
  {
   "cell_type": "code",
   "execution_count": null,
   "id": "2625ecaa",
   "metadata": {
    "papermill": {
     "duration": 0.018481,
     "end_time": "2023-10-19T09:18:55.923537",
     "exception": false,
     "start_time": "2023-10-19T09:18:55.905056",
     "status": "completed"
    },
    "tags": []
   },
   "outputs": [],
   "source": []
  }
 ],
 "metadata": {
  "kernelspec": {
   "display_name": "Python 3",
   "language": "python",
   "name": "python3"
  },
  "language_info": {
   "codemirror_mode": {
    "name": "ipython",
    "version": 3
   },
   "file_extension": ".py",
   "mimetype": "text/x-python",
   "name": "python",
   "nbconvert_exporter": "python",
   "pygments_lexer": "ipython3",
   "version": "3.10.12"
  },
  "papermill": {
   "default_parameters": {},
   "duration": 41.302453,
   "end_time": "2023-10-19T09:18:57.767307",
   "environment_variables": {},
   "exception": null,
   "input_path": "__notebook__.ipynb",
   "output_path": "__notebook__.ipynb",
   "parameters": {},
   "start_time": "2023-10-19T09:18:16.464854",
   "version": "2.4.0"
  }
 },
 "nbformat": 4,
 "nbformat_minor": 5
}
