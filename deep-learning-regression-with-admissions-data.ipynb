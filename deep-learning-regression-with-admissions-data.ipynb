{
 "cells": [
  {
   "cell_type": "code",
   "execution_count": 1,
   "id": "dce6d045",
   "metadata": {
    "_cell_guid": "b1076dfc-b9ad-4769-8c92-a6c4dae69d19",
    "_uuid": "8f2839f25d086af736a60e9eeb907d3b93b6e0e5",
    "execution": {
     "iopub.execute_input": "2023-10-19T09:05:29.411808Z",
     "iopub.status.busy": "2023-10-19T09:05:29.411231Z",
     "iopub.status.idle": "2023-10-19T09:05:29.864709Z",
     "shell.execute_reply": "2023-10-19T09:05:29.863811Z"
    },
    "papermill": {
     "duration": 0.463493,
     "end_time": "2023-10-19T09:05:29.867155",
     "exception": false,
     "start_time": "2023-10-19T09:05:29.403662",
     "status": "completed"
    },
    "tags": []
   },
   "outputs": [
    {
     "name": "stdout",
     "output_type": "stream",
     "text": [
      "/kaggle/input/graduate-admissions/Admission_Predict.csv\n",
      "/kaggle/input/graduate-admissions/Admission_Predict_Ver1.1.csv\n"
     ]
    }
   ],
   "source": [
    "# This Python 3 environment comes with many helpful analytics libraries installed\n",
    "# It is defined by the kaggle/python Docker image: https://github.com/kaggle/docker-python\n",
    "# For example, here's several helpful packages to load\n",
    "\n",
    "import numpy as np # linear algebra\n",
    "import pandas as pd # data processing, CSV file I/O (e.g. pd.read_csv)\n",
    "\n",
    "# Input data files are available in the read-only \"../input/\" directory\n",
    "# For example, running this (by clicking run or pressing Shift+Enter) will list all files under the input directory\n",
    "\n",
    "import os\n",
    "for dirname, _, filenames in os.walk('/kaggle/input'):\n",
    "    for filename in filenames:\n",
    "        print(os.path.join(dirname, filename))\n",
    "\n",
    "# You can write up to 20GB to the current directory (/kaggle/working/) that gets preserved as output when you create a version using \"Save & Run All\" \n",
    "# You can also write temporary files to /kaggle/temp/, but they won't be saved outside of the current session"
   ]
  },
  {
   "cell_type": "code",
   "execution_count": 2,
   "id": "07632eaf",
   "metadata": {
    "execution": {
     "iopub.execute_input": "2023-10-19T09:05:29.880139Z",
     "iopub.status.busy": "2023-10-19T09:05:29.879291Z",
     "iopub.status.idle": "2023-10-19T09:05:41.178601Z",
     "shell.execute_reply": "2023-10-19T09:05:41.177099Z"
    },
    "papermill": {
     "duration": 11.308524,
     "end_time": "2023-10-19T09:05:41.181663",
     "exception": false,
     "start_time": "2023-10-19T09:05:29.873139",
     "status": "completed"
    },
    "tags": []
   },
   "outputs": [],
   "source": [
    "import matplotlib.pyplot as plt\n",
    "\n",
    "import tensorflow as tf\n",
    "from tensorflow\timport keras\n",
    "from tensorflow.keras.models import Sequential\n",
    "from tensorflow.keras.callbacks import EarlyStopping\n",
    "from tensorflow.keras import layers\n",
    "from tensorflow.keras.layers import InputLayer\n",
    "from tensorflow.keras.layers import Dense\n",
    "from tensorflow.keras.optimizers import Adam\n",
    "from tensorflow.keras.optimizers import SGD\n",
    "from tensorflow.keras.callbacks import EarlyStopping\n",
    "from sklearn.compose import ColumnTransformer\n",
    "from sklearn.model_selection import train_test_split\n",
    "from sklearn.preprocessing import StandardScaler\n",
    "from sklearn.preprocessing import Normalizer\n",
    "from sklearn.metrics import r2_score"
   ]
  },
  {
   "cell_type": "code",
   "execution_count": 3,
   "id": "642d677e",
   "metadata": {
    "execution": {
     "iopub.execute_input": "2023-10-19T09:05:41.192191Z",
     "iopub.status.busy": "2023-10-19T09:05:41.191332Z",
     "iopub.status.idle": "2023-10-19T09:05:41.211909Z",
     "shell.execute_reply": "2023-10-19T09:05:41.210615Z"
    },
    "papermill": {
     "duration": 0.028987,
     "end_time": "2023-10-19T09:05:41.214642",
     "exception": false,
     "start_time": "2023-10-19T09:05:41.185655",
     "status": "completed"
    },
    "tags": []
   },
   "outputs": [],
   "source": [
    "df = pd.read_csv(\"/kaggle/input/graduate-admissions/Admission_Predict.csv\")"
   ]
  },
  {
   "cell_type": "code",
   "execution_count": 4,
   "id": "cdc92cf8",
   "metadata": {
    "execution": {
     "iopub.execute_input": "2023-10-19T09:05:41.223822Z",
     "iopub.status.busy": "2023-10-19T09:05:41.223343Z",
     "iopub.status.idle": "2023-10-19T09:05:41.252121Z",
     "shell.execute_reply": "2023-10-19T09:05:41.250786Z"
    },
    "papermill": {
     "duration": 0.036455,
     "end_time": "2023-10-19T09:05:41.254803",
     "exception": false,
     "start_time": "2023-10-19T09:05:41.218348",
     "status": "completed"
    },
    "tags": []
   },
   "outputs": [
    {
     "data": {
      "text/html": [
       "<div>\n",
       "<style scoped>\n",
       "    .dataframe tbody tr th:only-of-type {\n",
       "        vertical-align: middle;\n",
       "    }\n",
       "\n",
       "    .dataframe tbody tr th {\n",
       "        vertical-align: top;\n",
       "    }\n",
       "\n",
       "    .dataframe thead th {\n",
       "        text-align: right;\n",
       "    }\n",
       "</style>\n",
       "<table border=\"1\" class=\"dataframe\">\n",
       "  <thead>\n",
       "    <tr style=\"text-align: right;\">\n",
       "      <th></th>\n",
       "      <th>Serial No.</th>\n",
       "      <th>GRE Score</th>\n",
       "      <th>TOEFL Score</th>\n",
       "      <th>University Rating</th>\n",
       "      <th>SOP</th>\n",
       "      <th>LOR</th>\n",
       "      <th>CGPA</th>\n",
       "      <th>Research</th>\n",
       "      <th>Chance of Admit</th>\n",
       "    </tr>\n",
       "  </thead>\n",
       "  <tbody>\n",
       "    <tr>\n",
       "      <th>0</th>\n",
       "      <td>1</td>\n",
       "      <td>337</td>\n",
       "      <td>118</td>\n",
       "      <td>4</td>\n",
       "      <td>4.5</td>\n",
       "      <td>4.5</td>\n",
       "      <td>9.65</td>\n",
       "      <td>1</td>\n",
       "      <td>0.92</td>\n",
       "    </tr>\n",
       "    <tr>\n",
       "      <th>1</th>\n",
       "      <td>2</td>\n",
       "      <td>324</td>\n",
       "      <td>107</td>\n",
       "      <td>4</td>\n",
       "      <td>4.0</td>\n",
       "      <td>4.5</td>\n",
       "      <td>8.87</td>\n",
       "      <td>1</td>\n",
       "      <td>0.76</td>\n",
       "    </tr>\n",
       "    <tr>\n",
       "      <th>2</th>\n",
       "      <td>3</td>\n",
       "      <td>316</td>\n",
       "      <td>104</td>\n",
       "      <td>3</td>\n",
       "      <td>3.0</td>\n",
       "      <td>3.5</td>\n",
       "      <td>8.00</td>\n",
       "      <td>1</td>\n",
       "      <td>0.72</td>\n",
       "    </tr>\n",
       "    <tr>\n",
       "      <th>3</th>\n",
       "      <td>4</td>\n",
       "      <td>322</td>\n",
       "      <td>110</td>\n",
       "      <td>3</td>\n",
       "      <td>3.5</td>\n",
       "      <td>2.5</td>\n",
       "      <td>8.67</td>\n",
       "      <td>1</td>\n",
       "      <td>0.80</td>\n",
       "    </tr>\n",
       "    <tr>\n",
       "      <th>4</th>\n",
       "      <td>5</td>\n",
       "      <td>314</td>\n",
       "      <td>103</td>\n",
       "      <td>2</td>\n",
       "      <td>2.0</td>\n",
       "      <td>3.0</td>\n",
       "      <td>8.21</td>\n",
       "      <td>0</td>\n",
       "      <td>0.65</td>\n",
       "    </tr>\n",
       "  </tbody>\n",
       "</table>\n",
       "</div>"
      ],
      "text/plain": [
       "   Serial No.  GRE Score  TOEFL Score  University Rating  SOP  LOR   CGPA  \\\n",
       "0           1        337          118                  4  4.5   4.5  9.65   \n",
       "1           2        324          107                  4  4.0   4.5  8.87   \n",
       "2           3        316          104                  3  3.0   3.5  8.00   \n",
       "3           4        322          110                  3  3.5   2.5  8.67   \n",
       "4           5        314          103                  2  2.0   3.0  8.21   \n",
       "\n",
       "   Research  Chance of Admit   \n",
       "0         1              0.92  \n",
       "1         1              0.76  \n",
       "2         1              0.72  \n",
       "3         1              0.80  \n",
       "4         0              0.65  "
      ]
     },
     "execution_count": 4,
     "metadata": {},
     "output_type": "execute_result"
    }
   ],
   "source": [
    "df.head()\n"
   ]
  },
  {
   "cell_type": "code",
   "execution_count": 5,
   "id": "07c520c5",
   "metadata": {
    "execution": {
     "iopub.execute_input": "2023-10-19T09:05:41.265126Z",
     "iopub.status.busy": "2023-10-19T09:05:41.264746Z",
     "iopub.status.idle": "2023-10-19T09:05:41.294687Z",
     "shell.execute_reply": "2023-10-19T09:05:41.293497Z"
    },
    "papermill": {
     "duration": 0.037645,
     "end_time": "2023-10-19T09:05:41.297086",
     "exception": false,
     "start_time": "2023-10-19T09:05:41.259441",
     "status": "completed"
    },
    "tags": []
   },
   "outputs": [
    {
     "name": "stdout",
     "output_type": "stream",
     "text": [
      "<class 'pandas.core.frame.DataFrame'>\n",
      "RangeIndex: 400 entries, 0 to 399\n",
      "Data columns (total 9 columns):\n",
      " #   Column             Non-Null Count  Dtype  \n",
      "---  ------             --------------  -----  \n",
      " 0   Serial No.         400 non-null    int64  \n",
      " 1   GRE Score          400 non-null    int64  \n",
      " 2   TOEFL Score        400 non-null    int64  \n",
      " 3   University Rating  400 non-null    int64  \n",
      " 4   SOP                400 non-null    float64\n",
      " 5   LOR                400 non-null    float64\n",
      " 6   CGPA               400 non-null    float64\n",
      " 7   Research           400 non-null    int64  \n",
      " 8   Chance of Admit    400 non-null    float64\n",
      "dtypes: float64(4), int64(5)\n",
      "memory usage: 28.2 KB\n"
     ]
    }
   ],
   "source": [
    "df.info()"
   ]
  },
  {
   "cell_type": "code",
   "execution_count": 6,
   "id": "9f904217",
   "metadata": {
    "execution": {
     "iopub.execute_input": "2023-10-19T09:05:41.308131Z",
     "iopub.status.busy": "2023-10-19T09:05:41.306932Z",
     "iopub.status.idle": "2023-10-19T09:05:41.318805Z",
     "shell.execute_reply": "2023-10-19T09:05:41.317810Z"
    },
    "papermill": {
     "duration": 0.020094,
     "end_time": "2023-10-19T09:05:41.321413",
     "exception": false,
     "start_time": "2023-10-19T09:05:41.301319",
     "status": "completed"
    },
    "tags": []
   },
   "outputs": [],
   "source": [
    "features = df.drop(columns=['Serial No.','Chance of Admit '])\n",
    "labels = df.iloc[:,-1]"
   ]
  },
  {
   "cell_type": "code",
   "execution_count": 7,
   "id": "e421ec23",
   "metadata": {
    "execution": {
     "iopub.execute_input": "2023-10-19T09:05:41.332567Z",
     "iopub.status.busy": "2023-10-19T09:05:41.331712Z",
     "iopub.status.idle": "2023-10-19T09:05:41.339080Z",
     "shell.execute_reply": "2023-10-19T09:05:41.338264Z"
    },
    "papermill": {
     "duration": 0.015688,
     "end_time": "2023-10-19T09:05:41.341489",
     "exception": false,
     "start_time": "2023-10-19T09:05:41.325801",
     "status": "completed"
    },
    "tags": []
   },
   "outputs": [],
   "source": [
    "features_training_set,features_test_set,labels_training_set,labels_test_set = train_test_split(features,labels, test_size=0.27,random_state=42)"
   ]
  },
  {
   "cell_type": "code",
   "execution_count": 8,
   "id": "67fa12f4",
   "metadata": {
    "execution": {
     "iopub.execute_input": "2023-10-19T09:05:41.351083Z",
     "iopub.status.busy": "2023-10-19T09:05:41.350666Z",
     "iopub.status.idle": "2023-10-19T09:05:41.367940Z",
     "shell.execute_reply": "2023-10-19T09:05:41.366694Z"
    },
    "papermill": {
     "duration": 0.02502,
     "end_time": "2023-10-19T09:05:41.370531",
     "exception": false,
     "start_time": "2023-10-19T09:05:41.345511",
     "status": "completed"
    },
    "tags": []
   },
   "outputs": [
    {
     "name": "stdout",
     "output_type": "stream",
     "text": [
      "[ColumnTransformer] .. (1 of 1) Processing Only numeric, total=   0.0s\n"
     ]
    }
   ],
   "source": [
    "col = features_training_set.select_dtypes(include=np.number).columns\n",
    "ct = ColumnTransformer([('Only numeric',StandardScaler(),col)],remainder='passthrough',verbose=1)\n",
    "features_train_scaled = ct.fit_transform(features_training_set)\n",
    "features_test_scaled = ct.transform(features_test_set)"
   ]
  },
  {
   "cell_type": "code",
   "execution_count": 9,
   "id": "26849dbf",
   "metadata": {
    "execution": {
     "iopub.execute_input": "2023-10-19T09:05:41.380320Z",
     "iopub.status.busy": "2023-10-19T09:05:41.379928Z",
     "iopub.status.idle": "2023-10-19T09:05:41.627051Z",
     "shell.execute_reply": "2023-10-19T09:05:41.625282Z"
    },
    "papermill": {
     "duration": 0.255773,
     "end_time": "2023-10-19T09:05:41.630442",
     "exception": false,
     "start_time": "2023-10-19T09:05:41.374669",
     "status": "completed"
    },
    "tags": []
   },
   "outputs": [
    {
     "name": "stdout",
     "output_type": "stream",
     "text": [
      "Model: \"Admissions\"\n",
      "_________________________________________________________________\n",
      " Layer (type)                Output Shape              Param #   \n",
      "=================================================================\n",
      " dense (Dense)               (None, 64)                512       \n",
      "                                                                 \n",
      " dense_1 (Dense)             (None, 8)                 520       \n",
      "                                                                 \n",
      " dense_2 (Dense)             (None, 1)                 9         \n",
      "                                                                 \n",
      "=================================================================\n",
      "Total params: 1,041\n",
      "Trainable params: 1,041\n",
      "Non-trainable params: 0\n",
      "_________________________________________________________________\n",
      "None\n"
     ]
    }
   ],
   "source": [
    "my_model = Sequential(name='Admissions')\n",
    "\n",
    "input = InputLayer(input_shape=(features_train_scaled.shape[1], ))\n",
    "my_model.add(input)\n",
    "my_model.add(Dense(64,activation='relu'))\n",
    "my_model.add(Dense(8,activation='softmax'))\n",
    "my_model.add(Dense(1))\n",
    "\n",
    "opt = Adam(learning_rate=0.001)\n",
    "my_model.compile(loss='mse', metrics=['mae'], optimizer=opt)\n",
    "e_stop = EarlyStopping(monitor='val_loss',mode='min',verbose=1,patience=20)\n",
    "print(my_model.summary())"
   ]
  },
  {
   "cell_type": "code",
   "execution_count": 10,
   "id": "f45d9372",
   "metadata": {
    "execution": {
     "iopub.execute_input": "2023-10-19T09:05:41.641940Z",
     "iopub.status.busy": "2023-10-19T09:05:41.641553Z",
     "iopub.status.idle": "2023-10-19T09:06:00.512574Z",
     "shell.execute_reply": "2023-10-19T09:06:00.511045Z"
    },
    "papermill": {
     "duration": 18.880065,
     "end_time": "2023-10-19T09:06:00.515104",
     "exception": false,
     "start_time": "2023-10-19T09:05:41.635039",
     "status": "completed"
    },
    "tags": []
   },
   "outputs": [
    {
     "name": "stdout",
     "output_type": "stream",
     "text": [
      "Epoch 1/100\n",
      "86/86 [==============================] - 1s 4ms/step - loss: 1.2993 - mae: 1.1243 - val_loss: 0.9488 - val_mae: 0.9583\n",
      "Epoch 2/100\n",
      "86/86 [==============================] - 0s 2ms/step - loss: 0.6490 - mae: 0.7811 - val_loss: 0.4747 - val_mae: 0.6707\n",
      "Epoch 3/100\n",
      "86/86 [==============================] - 0s 2ms/step - loss: 0.3128 - mae: 0.5350 - val_loss: 0.2530 - val_mae: 0.4799\n",
      "Epoch 4/100\n",
      "86/86 [==============================] - 0s 2ms/step - loss: 0.1590 - mae: 0.3730 - val_loss: 0.1450 - val_mae: 0.3537\n",
      "Epoch 5/100\n",
      "86/86 [==============================] - 0s 2ms/step - loss: 0.0855 - mae: 0.2619 - val_loss: 0.0882 - val_mae: 0.2677\n",
      "Epoch 6/100\n",
      "86/86 [==============================] - 0s 2ms/step - loss: 0.0491 - mae: 0.1936 - val_loss: 0.0575 - val_mae: 0.2081\n",
      "Epoch 7/100\n",
      "86/86 [==============================] - 0s 2ms/step - loss: 0.0316 - mae: 0.1528 - val_loss: 0.0412 - val_mae: 0.1719\n",
      "Epoch 8/100\n",
      "86/86 [==============================] - 0s 2ms/step - loss: 0.0238 - mae: 0.1308 - val_loss: 0.0335 - val_mae: 0.1555\n",
      "Epoch 9/100\n",
      "86/86 [==============================] - 0s 3ms/step - loss: 0.0205 - mae: 0.1189 - val_loss: 0.0293 - val_mae: 0.1465\n",
      "Epoch 10/100\n",
      "86/86 [==============================] - 0s 3ms/step - loss: 0.0193 - mae: 0.1135 - val_loss: 0.0274 - val_mae: 0.1413\n",
      "Epoch 11/100\n",
      "86/86 [==============================] - 0s 2ms/step - loss: 0.0189 - mae: 0.1115 - val_loss: 0.0263 - val_mae: 0.1382\n",
      "Epoch 12/100\n",
      "86/86 [==============================] - 0s 2ms/step - loss: 0.0187 - mae: 0.1104 - val_loss: 0.0259 - val_mae: 0.1373\n",
      "Epoch 13/100\n",
      "86/86 [==============================] - 0s 2ms/step - loss: 0.0186 - mae: 0.1095 - val_loss: 0.0256 - val_mae: 0.1367\n",
      "Epoch 14/100\n",
      "86/86 [==============================] - 0s 2ms/step - loss: 0.0186 - mae: 0.1091 - val_loss: 0.0254 - val_mae: 0.1363\n",
      "Epoch 15/100\n",
      "86/86 [==============================] - 0s 2ms/step - loss: 0.0186 - mae: 0.1091 - val_loss: 0.0254 - val_mae: 0.1362\n",
      "Epoch 16/100\n",
      "86/86 [==============================] - 0s 2ms/step - loss: 0.0186 - mae: 0.1090 - val_loss: 0.0254 - val_mae: 0.1362\n",
      "Epoch 17/100\n",
      "86/86 [==============================] - 0s 2ms/step - loss: 0.0186 - mae: 0.1087 - val_loss: 0.0253 - val_mae: 0.1359\n",
      "Epoch 18/100\n",
      "86/86 [==============================] - 0s 2ms/step - loss: 0.0186 - mae: 0.1080 - val_loss: 0.0251 - val_mae: 0.1355\n",
      "Epoch 19/100\n",
      "86/86 [==============================] - 0s 2ms/step - loss: 0.0185 - mae: 0.1086 - val_loss: 0.0253 - val_mae: 0.1357\n",
      "Epoch 20/100\n",
      "86/86 [==============================] - 0s 2ms/step - loss: 0.0185 - mae: 0.1080 - val_loss: 0.0250 - val_mae: 0.1349\n",
      "Epoch 21/100\n",
      "86/86 [==============================] - 0s 2ms/step - loss: 0.0184 - mae: 0.1079 - val_loss: 0.0250 - val_mae: 0.1347\n",
      "Epoch 22/100\n",
      "86/86 [==============================] - 0s 2ms/step - loss: 0.0184 - mae: 0.1073 - val_loss: 0.0250 - val_mae: 0.1345\n",
      "Epoch 23/100\n",
      "86/86 [==============================] - 0s 2ms/step - loss: 0.0183 - mae: 0.1072 - val_loss: 0.0250 - val_mae: 0.1344\n",
      "Epoch 24/100\n",
      "86/86 [==============================] - 0s 2ms/step - loss: 0.0182 - mae: 0.1074 - val_loss: 0.0249 - val_mae: 0.1340\n",
      "Epoch 25/100\n",
      "86/86 [==============================] - 0s 2ms/step - loss: 0.0181 - mae: 0.1067 - val_loss: 0.0244 - val_mae: 0.1326\n",
      "Epoch 26/100\n",
      "86/86 [==============================] - 0s 2ms/step - loss: 0.0179 - mae: 0.1053 - val_loss: 0.0239 - val_mae: 0.1309\n",
      "Epoch 27/100\n",
      "86/86 [==============================] - 0s 2ms/step - loss: 0.0173 - mae: 0.1042 - val_loss: 0.0228 - val_mae: 0.1265\n",
      "Epoch 28/100\n",
      "86/86 [==============================] - 0s 2ms/step - loss: 0.0140 - mae: 0.0943 - val_loss: 0.0131 - val_mae: 0.0945\n",
      "Epoch 29/100\n",
      "86/86 [==============================] - 0s 2ms/step - loss: 0.0088 - mae: 0.0721 - val_loss: 0.0101 - val_mae: 0.0836\n",
      "Epoch 30/100\n",
      "86/86 [==============================] - 0s 2ms/step - loss: 0.0076 - mae: 0.0660 - val_loss: 0.0083 - val_mae: 0.0755\n",
      "Epoch 31/100\n",
      "86/86 [==============================] - 0s 2ms/step - loss: 0.0071 - mae: 0.0646 - val_loss: 0.0076 - val_mae: 0.0726\n",
      "Epoch 32/100\n",
      "86/86 [==============================] - 0s 2ms/step - loss: 0.0068 - mae: 0.0624 - val_loss: 0.0074 - val_mae: 0.0723\n",
      "Epoch 33/100\n",
      "86/86 [==============================] - 0s 2ms/step - loss: 0.0065 - mae: 0.0622 - val_loss: 0.0070 - val_mae: 0.0710\n",
      "Epoch 34/100\n",
      "86/86 [==============================] - 0s 2ms/step - loss: 0.0062 - mae: 0.0608 - val_loss: 0.0064 - val_mae: 0.0666\n",
      "Epoch 35/100\n",
      "86/86 [==============================] - 0s 2ms/step - loss: 0.0062 - mae: 0.0607 - val_loss: 0.0067 - val_mae: 0.0698\n",
      "Epoch 36/100\n",
      "86/86 [==============================] - 0s 2ms/step - loss: 0.0059 - mae: 0.0596 - val_loss: 0.0061 - val_mae: 0.0653\n",
      "Epoch 37/100\n",
      "86/86 [==============================] - 0s 2ms/step - loss: 0.0058 - mae: 0.0582 - val_loss: 0.0070 - val_mae: 0.0714\n",
      "Epoch 38/100\n",
      "86/86 [==============================] - 0s 2ms/step - loss: 0.0056 - mae: 0.0574 - val_loss: 0.0062 - val_mae: 0.0668\n",
      "Epoch 39/100\n",
      "86/86 [==============================] - 0s 2ms/step - loss: 0.0054 - mae: 0.0564 - val_loss: 0.0057 - val_mae: 0.0631\n",
      "Epoch 40/100\n",
      "86/86 [==============================] - 0s 2ms/step - loss: 0.0053 - mae: 0.0550 - val_loss: 0.0060 - val_mae: 0.0647\n",
      "Epoch 41/100\n",
      "86/86 [==============================] - 0s 2ms/step - loss: 0.0051 - mae: 0.0548 - val_loss: 0.0051 - val_mae: 0.0587\n",
      "Epoch 42/100\n",
      "86/86 [==============================] - 0s 2ms/step - loss: 0.0050 - mae: 0.0539 - val_loss: 0.0051 - val_mae: 0.0584\n",
      "Epoch 43/100\n",
      "86/86 [==============================] - 0s 2ms/step - loss: 0.0049 - mae: 0.0530 - val_loss: 0.0045 - val_mae: 0.0548\n",
      "Epoch 44/100\n",
      "86/86 [==============================] - 0s 2ms/step - loss: 0.0047 - mae: 0.0517 - val_loss: 0.0045 - val_mae: 0.0535\n",
      "Epoch 45/100\n",
      "86/86 [==============================] - 0s 2ms/step - loss: 0.0044 - mae: 0.0502 - val_loss: 0.0038 - val_mae: 0.0496\n",
      "Epoch 46/100\n",
      "86/86 [==============================] - 0s 2ms/step - loss: 0.0041 - mae: 0.0477 - val_loss: 0.0060 - val_mae: 0.0605\n",
      "Epoch 47/100\n",
      "86/86 [==============================] - 0s 2ms/step - loss: 0.0039 - mae: 0.0473 - val_loss: 0.0036 - val_mae: 0.0479\n",
      "Epoch 48/100\n",
      "86/86 [==============================] - 0s 2ms/step - loss: 0.0041 - mae: 0.0474 - val_loss: 0.0031 - val_mae: 0.0436\n",
      "Epoch 49/100\n",
      "86/86 [==============================] - 0s 2ms/step - loss: 0.0040 - mae: 0.0469 - val_loss: 0.0032 - val_mae: 0.0420\n",
      "Epoch 50/100\n",
      "86/86 [==============================] - 0s 2ms/step - loss: 0.0038 - mae: 0.0456 - val_loss: 0.0026 - val_mae: 0.0393\n",
      "Epoch 51/100\n",
      "86/86 [==============================] - 0s 3ms/step - loss: 0.0037 - mae: 0.0452 - val_loss: 0.0032 - val_mae: 0.0429\n",
      "Epoch 52/100\n",
      "86/86 [==============================] - 0s 2ms/step - loss: 0.0036 - mae: 0.0437 - val_loss: 0.0032 - val_mae: 0.0423\n",
      "Epoch 53/100\n",
      "86/86 [==============================] - 0s 2ms/step - loss: 0.0036 - mae: 0.0459 - val_loss: 0.0028 - val_mae: 0.0397\n",
      "Epoch 54/100\n",
      "86/86 [==============================] - 0s 2ms/step - loss: 0.0035 - mae: 0.0429 - val_loss: 0.0029 - val_mae: 0.0386\n",
      "Epoch 55/100\n",
      "86/86 [==============================] - 0s 2ms/step - loss: 0.0034 - mae: 0.0419 - val_loss: 0.0030 - val_mae: 0.0398\n",
      "Epoch 56/100\n",
      "86/86 [==============================] - 0s 2ms/step - loss: 0.0037 - mae: 0.0447 - val_loss: 0.0034 - val_mae: 0.0402\n",
      "Epoch 57/100\n",
      "86/86 [==============================] - 0s 2ms/step - loss: 0.0033 - mae: 0.0422 - val_loss: 0.0029 - val_mae: 0.0380\n",
      "Epoch 58/100\n",
      "86/86 [==============================] - 0s 2ms/step - loss: 0.0034 - mae: 0.0425 - val_loss: 0.0028 - val_mae: 0.0368\n",
      "Epoch 59/100\n",
      "86/86 [==============================] - 0s 3ms/step - loss: 0.0031 - mae: 0.0406 - val_loss: 0.0028 - val_mae: 0.0377\n",
      "Epoch 60/100\n",
      "86/86 [==============================] - 0s 2ms/step - loss: 0.0031 - mae: 0.0395 - val_loss: 0.0040 - val_mae: 0.0476\n",
      "Epoch 61/100\n",
      "86/86 [==============================] - 0s 2ms/step - loss: 0.0030 - mae: 0.0405 - val_loss: 0.0023 - val_mae: 0.0342\n",
      "Epoch 62/100\n",
      "86/86 [==============================] - 0s 3ms/step - loss: 0.0030 - mae: 0.0391 - val_loss: 0.0033 - val_mae: 0.0382\n",
      "Epoch 63/100\n",
      "86/86 [==============================] - 0s 2ms/step - loss: 0.0030 - mae: 0.0399 - val_loss: 0.0029 - val_mae: 0.0362\n",
      "Epoch 64/100\n",
      "86/86 [==============================] - 0s 2ms/step - loss: 0.0028 - mae: 0.0391 - val_loss: 0.0023 - val_mae: 0.0321\n",
      "Epoch 65/100\n",
      "86/86 [==============================] - 0s 2ms/step - loss: 0.0029 - mae: 0.0379 - val_loss: 0.0032 - val_mae: 0.0381\n",
      "Epoch 66/100\n",
      "86/86 [==============================] - 0s 2ms/step - loss: 0.0029 - mae: 0.0391 - val_loss: 0.0026 - val_mae: 0.0337\n",
      "Epoch 67/100\n",
      "86/86 [==============================] - 0s 2ms/step - loss: 0.0028 - mae: 0.0389 - val_loss: 0.0027 - val_mae: 0.0348\n",
      "Epoch 68/100\n",
      "86/86 [==============================] - 0s 3ms/step - loss: 0.0028 - mae: 0.0385 - val_loss: 0.0042 - val_mae: 0.0453\n",
      "Epoch 69/100\n",
      "86/86 [==============================] - 0s 2ms/step - loss: 0.0027 - mae: 0.0377 - val_loss: 0.0041 - val_mae: 0.0427\n",
      "Epoch 70/100\n",
      "86/86 [==============================] - 0s 2ms/step - loss: 0.0026 - mae: 0.0373 - val_loss: 0.0036 - val_mae: 0.0393\n",
      "Epoch 71/100\n",
      "86/86 [==============================] - 0s 3ms/step - loss: 0.0026 - mae: 0.0371 - val_loss: 0.0049 - val_mae: 0.0531\n",
      "Epoch 72/100\n",
      "86/86 [==============================] - 0s 2ms/step - loss: 0.0026 - mae: 0.0377 - val_loss: 0.0042 - val_mae: 0.0475\n",
      "Epoch 73/100\n",
      "86/86 [==============================] - 0s 2ms/step - loss: 0.0027 - mae: 0.0380 - val_loss: 0.0047 - val_mae: 0.0494\n",
      "Epoch 74/100\n",
      "86/86 [==============================] - 0s 2ms/step - loss: 0.0026 - mae: 0.0367 - val_loss: 0.0037 - val_mae: 0.0430\n",
      "Epoch 75/100\n",
      "86/86 [==============================] - 0s 2ms/step - loss: 0.0025 - mae: 0.0359 - val_loss: 0.0029 - val_mae: 0.0363\n",
      "Epoch 76/100\n",
      "86/86 [==============================] - 0s 2ms/step - loss: 0.0027 - mae: 0.0383 - val_loss: 0.0031 - val_mae: 0.0363\n",
      "Epoch 77/100\n",
      "86/86 [==============================] - 0s 2ms/step - loss: 0.0026 - mae: 0.0368 - val_loss: 0.0031 - val_mae: 0.0398\n",
      "Epoch 78/100\n",
      "86/86 [==============================] - 0s 2ms/step - loss: 0.0025 - mae: 0.0360 - val_loss: 0.0031 - val_mae: 0.0365\n",
      "Epoch 79/100\n",
      "86/86 [==============================] - 0s 2ms/step - loss: 0.0026 - mae: 0.0362 - val_loss: 0.0034 - val_mae: 0.0388\n",
      "Epoch 80/100\n",
      "86/86 [==============================] - 0s 2ms/step - loss: 0.0026 - mae: 0.0368 - val_loss: 0.0034 - val_mae: 0.0396\n",
      "Epoch 81/100\n",
      "86/86 [==============================] - 0s 3ms/step - loss: 0.0024 - mae: 0.0356 - val_loss: 0.0035 - val_mae: 0.0416\n",
      "Epoch 82/100\n",
      "86/86 [==============================] - 0s 2ms/step - loss: 0.0024 - mae: 0.0356 - val_loss: 0.0033 - val_mae: 0.0399\n",
      "Epoch 83/100\n",
      "86/86 [==============================] - 0s 3ms/step - loss: 0.0026 - mae: 0.0369 - val_loss: 0.0027 - val_mae: 0.0356\n",
      "Epoch 84/100\n",
      "86/86 [==============================] - 0s 2ms/step - loss: 0.0024 - mae: 0.0348 - val_loss: 0.0034 - val_mae: 0.0447\n",
      "Epoch 84: early stopping\n"
     ]
    }
   ],
   "source": [
    "history = my_model.fit(features_train_scaled,labels_training_set,epochs=100,batch_size = 3, verbose = 1,validation_split = 0.12,callbacks=[e_stop])\n",
    "res_mse,res_mae = my_model.evaluate(features_test_scaled,labels_test_set, verbose = 0)"
   ]
  },
  {
   "cell_type": "code",
   "execution_count": 11,
   "id": "4c537547",
   "metadata": {
    "execution": {
     "iopub.execute_input": "2023-10-19T09:06:00.579564Z",
     "iopub.status.busy": "2023-10-19T09:06:00.578826Z",
     "iopub.status.idle": "2023-10-19T09:06:00.584970Z",
     "shell.execute_reply": "2023-10-19T09:06:00.583663Z"
    },
    "papermill": {
     "duration": 0.041204,
     "end_time": "2023-10-19T09:06:00.587029",
     "exception": false,
     "start_time": "2023-10-19T09:06:00.545825",
     "status": "completed"
    },
    "tags": []
   },
   "outputs": [
    {
     "name": "stdout",
     "output_type": "stream",
     "text": [
      "MSE: 0.005680978763848543\n",
      "MAE: 0.055835071951150894\n"
     ]
    }
   ],
   "source": [
    "print(f\"MSE: {res_mse}\")\n",
    "print(f\"MAE: {res_mae}\")"
   ]
  },
  {
   "cell_type": "code",
   "execution_count": 12,
   "id": "51e6f92f",
   "metadata": {
    "execution": {
     "iopub.execute_input": "2023-10-19T09:06:00.646349Z",
     "iopub.status.busy": "2023-10-19T09:06:00.645961Z",
     "iopub.status.idle": "2023-10-19T09:06:00.838427Z",
     "shell.execute_reply": "2023-10-19T09:06:00.837528Z"
    },
    "papermill": {
     "duration": 0.225325,
     "end_time": "2023-10-19T09:06:00.841240",
     "exception": false,
     "start_time": "2023-10-19T09:06:00.615915",
     "status": "completed"
    },
    "tags": []
   },
   "outputs": [
    {
     "name": "stdout",
     "output_type": "stream",
     "text": [
      "4/4 [==============================] - 0s 3ms/step\n",
      "0.7447006901521669\n"
     ]
    }
   ],
   "source": [
    "predicted_values = my_model.predict(features_test_scaled) \n",
    "print(r2_score(labels_test_set, predicted_values)) "
   ]
  },
  {
   "cell_type": "code",
   "execution_count": 13,
   "id": "0ad82937",
   "metadata": {
    "execution": {
     "iopub.execute_input": "2023-10-19T09:06:00.902251Z",
     "iopub.status.busy": "2023-10-19T09:06:00.901898Z",
     "iopub.status.idle": "2023-10-19T09:06:01.607055Z",
     "shell.execute_reply": "2023-10-19T09:06:01.605447Z"
    },
    "papermill": {
     "duration": 0.739804,
     "end_time": "2023-10-19T09:06:01.610281",
     "exception": false,
     "start_time": "2023-10-19T09:06:00.870477",
     "status": "completed"
    },
    "tags": []
   },
   "outputs": [
    {
     "data": {
      "text/plain": [
       "Text(0.5, 0, 'epoch')"
      ]
     },
     "execution_count": 13,
     "metadata": {},
     "output_type": "execute_result"
    },
    {
     "data": {
      "image/png": "[encoded data removed]",
      "text/plain": [
       "<Figure size 640x480 with 2 Axes>"
      ]
     },
     "metadata": {},
     "output_type": "display_data"
    }
   ],
   "source": [
    "# Create and save the plots\n",
    "fig = plt.figure()\n",
    "ax1 = fig.add_subplot(2, 1, 1)\n",
    "ax1.plot(history.history['mae'])\n",
    "ax1.set_title('model mae')\n",
    "ax1.set_ylabel('MAE')\n",
    "ax1.set_xlabel('epoch')\n",
    "\n",
    "ax2 = fig.add_subplot(2, 1, 2)\n",
    "ax2.plot(history.history['loss'])\n",
    "ax2.set_title('model loss')\n",
    "ax2.set_ylabel('loss')\n",
    "ax2.set_xlabel('epoch')"
   ]
  },
  {
   "cell_type": "code",
   "execution_count": null,
   "id": "ef1645a7",
   "metadata": {
    "papermill": {
     "duration": 0.029214,
     "end_time": "2023-10-19T09:06:01.670483",
     "exception": false,
     "start_time": "2023-10-19T09:06:01.641269",
     "status": "completed"
    },
    "tags": []
   },
   "outputs": [],
   "source": []
  }
 ],
 "metadata": {
  "kernelspec": {
   "display_name": "Python 3",
   "language": "python",
   "name": "python3"
  },
  "language_info": {
   "codemirror_mode": {
    "name": "ipython",
    "version": 3
   },
   "file_extension": ".py",
   "mimetype": "text/x-python",
   "name": "python",
   "nbconvert_exporter": "python",
   "pygments_lexer": "ipython3",
   "version": "3.10.12"
  },
  "papermill": {
   "default_parameters": {},
   "duration": 38.448134,
   "end_time": "2023-10-19T09:06:04.441069",
   "environment_variables": {},
   "exception": null,
   "input_path": "__notebook__.ipynb",
   "output_path": "__notebook__.ipynb",
   "parameters": {},
   "start_time": "2023-10-19T09:05:25.992935",
   "version": "2.4.0"
  }
 },
 "nbformat": 4,
 "nbformat_minor": 5
}
