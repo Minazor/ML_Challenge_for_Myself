{
 "cells": [
  {
   "cell_type": "code",
   "execution_count": 1,
   "id": "ab6d0fce",
   "metadata": {
    "_cell_guid": "b1076dfc-b9ad-4769-8c92-a6c4dae69d19",
    "_uuid": "8f2839f25d086af736a60e9eeb907d3b93b6e0e5",
    "execution": {
     "iopub.execute_input": "2024-04-01T07:03:32.764217Z",
     "iopub.status.busy": "2024-04-01T07:03:32.763455Z",
     "iopub.status.idle": "2024-04-01T07:03:33.688678Z",
     "shell.execute_reply": "2024-04-01T07:03:33.687439Z"
    },
    "papermill": {
     "duration": 0.93823,
     "end_time": "2024-04-01T07:03:33.691205",
     "exception": false,
     "start_time": "2024-04-01T07:03:32.752975",
     "status": "completed"
    },
    "tags": []
   },
   "outputs": [
    {
     "name": "stdout",
     "output_type": "stream",
     "text": [
      "/kaggle/input/gender-classification-dataset/gender_classification_v7.csv\n"
     ]
    }
   ],
   "source": [
    "# This Python 3 environment comes with many helpful analytics libraries installed\n",
    "# It is defined by the kaggle/python Docker image: https://github.com/kaggle/docker-python\n",
    "# For example, here's several helpful packages to load\n",
    "\n",
    "import numpy as np # linear algebra\n",
    "import pandas as pd # data processing, CSV file I/O (e.g. pd.read_csv)\n",
    "\n",
    "# Input data files are available in the read-only \"../input/\" directory\n",
    "# For example, running this (by clicking run or pressing Shift+Enter) will list all files under the input directory\n",
    "\n",
    "import os\n",
    "for dirname, _, filenames in os.walk('/kaggle/input'):\n",
    "    for filename in filenames:\n",
    "        print(os.path.join(dirname, filename))\n",
    "\n",
    "# You can write up to 20GB to the current directory (/kaggle/working/) that gets preserved as output when you create a version using \"Save & Run All\" \n",
    "# You can also write temporary files to /kaggle/temp/, but they won't be saved outside of the current session"
   ]
  },
  {
   "cell_type": "markdown",
   "id": "7970760d",
   "metadata": {
    "papermill": {
     "duration": 0.007587,
     "end_time": "2024-04-01T07:03:33.707025",
     "exception": false,
     "start_time": "2024-04-01T07:03:33.699438",
     "status": "completed"
    },
    "tags": []
   },
   "source": [
    "# Main Objective of the Analysis\n",
    "The primary objective of this analysis is to predict gender based on various physical and observational characteristics. This predictive model aims to assist in personalized marketing, product recommendations, and enhancing user experience by understanding gender preferences without explicit disclosure. The benefits extend to stakeholders interested in tailoring content, products, or services more effectively to their target audience."
   ]
  },
  {
   "cell_type": "code",
   "execution_count": 2,
   "id": "3c4d662a",
   "metadata": {
    "execution": {
     "iopub.execute_input": "2024-04-01T07:03:33.724928Z",
     "iopub.status.busy": "2024-04-01T07:03:33.723693Z",
     "iopub.status.idle": "2024-04-01T07:03:33.768476Z",
     "shell.execute_reply": "2024-04-01T07:03:33.767367Z"
    },
    "papermill": {
     "duration": 0.056331,
     "end_time": "2024-04-01T07:03:33.771037",
     "exception": false,
     "start_time": "2024-04-01T07:03:33.714706",
     "status": "completed"
    },
    "tags": []
   },
   "outputs": [
    {
     "data": {
      "text/html": [
       "<div>\n",
       "<style scoped>\n",
       "    .dataframe tbody tr th:only-of-type {\n",
       "        vertical-align: middle;\n",
       "    }\n",
       "\n",
       "    .dataframe tbody tr th {\n",
       "        vertical-align: top;\n",
       "    }\n",
       "\n",
       "    .dataframe thead th {\n",
       "        text-align: right;\n",
       "    }\n",
       "</style>\n",
       "<table border=\"1\" class=\"dataframe\">\n",
       "  <thead>\n",
       "    <tr style=\"text-align: right;\">\n",
       "      <th></th>\n",
       "      <th>long_hair</th>\n",
       "      <th>forehead_width_cm</th>\n",
       "      <th>forehead_height_cm</th>\n",
       "      <th>nose_wide</th>\n",
       "      <th>nose_long</th>\n",
       "      <th>lips_thin</th>\n",
       "      <th>distance_nose_to_lip_long</th>\n",
       "      <th>gender</th>\n",
       "    </tr>\n",
       "  </thead>\n",
       "  <tbody>\n",
       "    <tr>\n",
       "      <th>0</th>\n",
       "      <td>1</td>\n",
       "      <td>11.8</td>\n",
       "      <td>6.1</td>\n",
       "      <td>1</td>\n",
       "      <td>0</td>\n",
       "      <td>1</td>\n",
       "      <td>1</td>\n",
       "      <td>Male</td>\n",
       "    </tr>\n",
       "    <tr>\n",
       "      <th>1</th>\n",
       "      <td>0</td>\n",
       "      <td>14.0</td>\n",
       "      <td>5.4</td>\n",
       "      <td>0</td>\n",
       "      <td>0</td>\n",
       "      <td>1</td>\n",
       "      <td>0</td>\n",
       "      <td>Female</td>\n",
       "    </tr>\n",
       "    <tr>\n",
       "      <th>2</th>\n",
       "      <td>0</td>\n",
       "      <td>11.8</td>\n",
       "      <td>6.3</td>\n",
       "      <td>1</td>\n",
       "      <td>1</td>\n",
       "      <td>1</td>\n",
       "      <td>1</td>\n",
       "      <td>Male</td>\n",
       "    </tr>\n",
       "    <tr>\n",
       "      <th>3</th>\n",
       "      <td>0</td>\n",
       "      <td>14.4</td>\n",
       "      <td>6.1</td>\n",
       "      <td>0</td>\n",
       "      <td>1</td>\n",
       "      <td>1</td>\n",
       "      <td>1</td>\n",
       "      <td>Male</td>\n",
       "    </tr>\n",
       "    <tr>\n",
       "      <th>4</th>\n",
       "      <td>1</td>\n",
       "      <td>13.5</td>\n",
       "      <td>5.9</td>\n",
       "      <td>0</td>\n",
       "      <td>0</td>\n",
       "      <td>0</td>\n",
       "      <td>0</td>\n",
       "      <td>Female</td>\n",
       "    </tr>\n",
       "  </tbody>\n",
       "</table>\n",
       "</div>"
      ],
      "text/plain": [
       "   long_hair  forehead_width_cm  forehead_height_cm  nose_wide  nose_long  \\\n",
       "0          1               11.8                 6.1          1          0   \n",
       "1          0               14.0                 5.4          0          0   \n",
       "2          0               11.8                 6.3          1          1   \n",
       "3          0               14.4                 6.1          0          1   \n",
       "4          1               13.5                 5.9          0          0   \n",
       "\n",
       "   lips_thin  distance_nose_to_lip_long  gender  \n",
       "0          1                          1    Male  \n",
       "1          1                          0  Female  \n",
       "2          1                          1    Male  \n",
       "3          1                          1    Male  \n",
       "4          0                          0  Female  "
      ]
     },
     "execution_count": 2,
     "metadata": {},
     "output_type": "execute_result"
    }
   ],
   "source": [
    "# Dataset\n",
    "data_path = '/kaggle/input/gender-classification-dataset/gender_classification_v7.csv'  # Enter the path to your data set here\n",
    "df = pd.read_csv(data_path)\n",
    "\n",
    "df.head()"
   ]
  },
  {
   "cell_type": "markdown",
   "id": "ccb833f4",
   "metadata": {
    "papermill": {
     "duration": 0.00796,
     "end_time": "2024-04-01T07:03:33.787500",
     "exception": false,
     "start_time": "2024-04-01T07:03:33.779540",
     "status": "completed"
    },
    "tags": []
   },
   "source": [
    "# Description of the Dataset\n",
    "The dataset chosen for this analysis includes observations on physical attributes such as hair length, forehead width, nose width, and other facial characteristics, each measured or observed and categorized into binary or continuous variables. This dataset is used to predict the gender of individuals, providing a binary classification problem. The goal is to leverage these attributes to accurately predict gender, thereby enabling tailored applications in various business contexts.\n",
    "\n",
    "* long_hair - This column contains 0's and 1's where 1 is \"long hair\" and 0 is \"not long hair\".\n",
    "* forehead_width_cm - This column is in CM's. This is the width of the forehead.\n",
    "* forehead_height_cm - This is the height of the forehead and it's in Cm's.\n",
    "* nose_wide - This column contains 0's and 1's where 1 is \"wide nose\" and 0 is \"not wide nose\".\n",
    "* nose_long - This column contains 0's and 1's where 1 is \"Long nose\" and 0 is \"not long nose\".\n",
    "* lips_thin - This column contains 0's and 1's where 1 represents the \"thin lips\" while 0 is \"Not thin lips\".\n",
    "* distance_nose_to_lip_long - This column contains 0's and 1's where 1 represents the \"long distance between nose and lips\" while 0 is \"short distance between nose and lips\".\n",
    "\n",
    "* gender - This is either \"Male\" or \"Female\""
   ]
  },
  {
   "cell_type": "code",
   "execution_count": 3,
   "id": "16ea745f",
   "metadata": {
    "execution": {
     "iopub.execute_input": "2024-04-01T07:03:33.806835Z",
     "iopub.status.busy": "2024-04-01T07:03:33.806092Z",
     "iopub.status.idle": "2024-04-01T07:03:33.833132Z",
     "shell.execute_reply": "2024-04-01T07:03:33.831890Z"
    },
    "papermill": {
     "duration": 0.039231,
     "end_time": "2024-04-01T07:03:33.835543",
     "exception": false,
     "start_time": "2024-04-01T07:03:33.796312",
     "status": "completed"
    },
    "tags": []
   },
   "outputs": [
    {
     "name": "stdout",
     "output_type": "stream",
     "text": [
      "<class 'pandas.core.frame.DataFrame'>\n",
      "RangeIndex: 5001 entries, 0 to 5000\n",
      "Data columns (total 8 columns):\n",
      " #   Column                     Non-Null Count  Dtype  \n",
      "---  ------                     --------------  -----  \n",
      " 0   long_hair                  5001 non-null   int64  \n",
      " 1   forehead_width_cm          5001 non-null   float64\n",
      " 2   forehead_height_cm         5001 non-null   float64\n",
      " 3   nose_wide                  5001 non-null   int64  \n",
      " 4   nose_long                  5001 non-null   int64  \n",
      " 5   lips_thin                  5001 non-null   int64  \n",
      " 6   distance_nose_to_lip_long  5001 non-null   int64  \n",
      " 7   gender                     5001 non-null   object \n",
      "dtypes: float64(2), int64(5), object(1)\n",
      "memory usage: 312.7+ KB\n"
     ]
    }
   ],
   "source": [
    "df.info()"
   ]
  },
  {
   "cell_type": "code",
   "execution_count": 4,
   "id": "64f447d5",
   "metadata": {
    "execution": {
     "iopub.execute_input": "2024-04-01T07:03:33.854581Z",
     "iopub.status.busy": "2024-04-01T07:03:33.853588Z",
     "iopub.status.idle": "2024-04-01T07:03:33.887292Z",
     "shell.execute_reply": "2024-04-01T07:03:33.886160Z"
    },
    "papermill": {
     "duration": 0.046161,
     "end_time": "2024-04-01T07:03:33.890167",
     "exception": false,
     "start_time": "2024-04-01T07:03:33.844006",
     "status": "completed"
    },
    "tags": []
   },
   "outputs": [
    {
     "data": {
      "text/html": [
       "<div>\n",
       "<style scoped>\n",
       "    .dataframe tbody tr th:only-of-type {\n",
       "        vertical-align: middle;\n",
       "    }\n",
       "\n",
       "    .dataframe tbody tr th {\n",
       "        vertical-align: top;\n",
       "    }\n",
       "\n",
       "    .dataframe thead th {\n",
       "        text-align: right;\n",
       "    }\n",
       "</style>\n",
       "<table border=\"1\" class=\"dataframe\">\n",
       "  <thead>\n",
       "    <tr style=\"text-align: right;\">\n",
       "      <th></th>\n",
       "      <th>long_hair</th>\n",
       "      <th>forehead_width_cm</th>\n",
       "      <th>forehead_height_cm</th>\n",
       "      <th>nose_wide</th>\n",
       "      <th>nose_long</th>\n",
       "      <th>lips_thin</th>\n",
       "      <th>distance_nose_to_lip_long</th>\n",
       "    </tr>\n",
       "  </thead>\n",
       "  <tbody>\n",
       "    <tr>\n",
       "      <th>count</th>\n",
       "      <td>5001.000000</td>\n",
       "      <td>5001.000000</td>\n",
       "      <td>5001.000000</td>\n",
       "      <td>5001.000000</td>\n",
       "      <td>5001.000000</td>\n",
       "      <td>5001.000000</td>\n",
       "      <td>5001.000000</td>\n",
       "    </tr>\n",
       "    <tr>\n",
       "      <th>mean</th>\n",
       "      <td>0.869626</td>\n",
       "      <td>13.181484</td>\n",
       "      <td>5.946311</td>\n",
       "      <td>0.493901</td>\n",
       "      <td>0.507898</td>\n",
       "      <td>0.493101</td>\n",
       "      <td>0.498900</td>\n",
       "    </tr>\n",
       "    <tr>\n",
       "      <th>std</th>\n",
       "      <td>0.336748</td>\n",
       "      <td>1.107128</td>\n",
       "      <td>0.541268</td>\n",
       "      <td>0.500013</td>\n",
       "      <td>0.499988</td>\n",
       "      <td>0.500002</td>\n",
       "      <td>0.500049</td>\n",
       "    </tr>\n",
       "    <tr>\n",
       "      <th>min</th>\n",
       "      <td>0.000000</td>\n",
       "      <td>11.400000</td>\n",
       "      <td>5.100000</td>\n",
       "      <td>0.000000</td>\n",
       "      <td>0.000000</td>\n",
       "      <td>0.000000</td>\n",
       "      <td>0.000000</td>\n",
       "    </tr>\n",
       "    <tr>\n",
       "      <th>25%</th>\n",
       "      <td>1.000000</td>\n",
       "      <td>12.200000</td>\n",
       "      <td>5.500000</td>\n",
       "      <td>0.000000</td>\n",
       "      <td>0.000000</td>\n",
       "      <td>0.000000</td>\n",
       "      <td>0.000000</td>\n",
       "    </tr>\n",
       "    <tr>\n",
       "      <th>50%</th>\n",
       "      <td>1.000000</td>\n",
       "      <td>13.100000</td>\n",
       "      <td>5.900000</td>\n",
       "      <td>0.000000</td>\n",
       "      <td>1.000000</td>\n",
       "      <td>0.000000</td>\n",
       "      <td>0.000000</td>\n",
       "    </tr>\n",
       "    <tr>\n",
       "      <th>75%</th>\n",
       "      <td>1.000000</td>\n",
       "      <td>14.000000</td>\n",
       "      <td>6.400000</td>\n",
       "      <td>1.000000</td>\n",
       "      <td>1.000000</td>\n",
       "      <td>1.000000</td>\n",
       "      <td>1.000000</td>\n",
       "    </tr>\n",
       "    <tr>\n",
       "      <th>max</th>\n",
       "      <td>1.000000</td>\n",
       "      <td>15.500000</td>\n",
       "      <td>7.100000</td>\n",
       "      <td>1.000000</td>\n",
       "      <td>1.000000</td>\n",
       "      <td>1.000000</td>\n",
       "      <td>1.000000</td>\n",
       "    </tr>\n",
       "  </tbody>\n",
       "</table>\n",
       "</div>"
      ],
      "text/plain": [
       "         long_hair  forehead_width_cm  forehead_height_cm    nose_wide  \\\n",
       "count  5001.000000        5001.000000         5001.000000  5001.000000   \n",
       "mean      0.869626          13.181484            5.946311     0.493901   \n",
       "std       0.336748           1.107128            0.541268     0.500013   \n",
       "min       0.000000          11.400000            5.100000     0.000000   \n",
       "25%       1.000000          12.200000            5.500000     0.000000   \n",
       "50%       1.000000          13.100000            5.900000     0.000000   \n",
       "75%       1.000000          14.000000            6.400000     1.000000   \n",
       "max       1.000000          15.500000            7.100000     1.000000   \n",
       "\n",
       "         nose_long    lips_thin  distance_nose_to_lip_long  \n",
       "count  5001.000000  5001.000000                5001.000000  \n",
       "mean      0.507898     0.493101                   0.498900  \n",
       "std       0.499988     0.500002                   0.500049  \n",
       "min       0.000000     0.000000                   0.000000  \n",
       "25%       0.000000     0.000000                   0.000000  \n",
       "50%       1.000000     0.000000                   0.000000  \n",
       "75%       1.000000     1.000000                   1.000000  \n",
       "max       1.000000     1.000000                   1.000000  "
      ]
     },
     "execution_count": 4,
     "metadata": {},
     "output_type": "execute_result"
    }
   ],
   "source": [
    "df.describe()"
   ]
  },
  {
   "cell_type": "code",
   "execution_count": 5,
   "id": "97710fd5",
   "metadata": {
    "execution": {
     "iopub.execute_input": "2024-04-01T07:03:33.910490Z",
     "iopub.status.busy": "2024-04-01T07:03:33.909852Z",
     "iopub.status.idle": "2024-04-01T07:03:33.917836Z",
     "shell.execute_reply": "2024-04-01T07:03:33.916943Z"
    },
    "papermill": {
     "duration": 0.020557,
     "end_time": "2024-04-01T07:03:33.920100",
     "exception": false,
     "start_time": "2024-04-01T07:03:33.899543",
     "status": "completed"
    },
    "tags": []
   },
   "outputs": [
    {
     "data": {
      "text/plain": [
       "long_hair                    0\n",
       "forehead_width_cm            0\n",
       "forehead_height_cm           0\n",
       "nose_wide                    0\n",
       "nose_long                    0\n",
       "lips_thin                    0\n",
       "distance_nose_to_lip_long    0\n",
       "gender                       0\n",
       "dtype: int64"
      ]
     },
     "execution_count": 5,
     "metadata": {},
     "output_type": "execute_result"
    }
   ],
   "source": [
    "df.isnull().sum()"
   ]
  },
  {
   "cell_type": "markdown",
   "id": "8d72a933",
   "metadata": {
    "papermill": {
     "duration": 0.008698,
     "end_time": "2024-04-01T07:03:33.937609",
     "exception": false,
     "start_time": "2024-04-01T07:03:33.928911",
     "status": "completed"
    },
    "tags": []
   },
   "source": [
    "# Data Exploration and Preprocessing\n",
    "Initial data exploration revealed a balanced distribution of gender within the dataset, with no significant missing values. Several attributes were binary, representing characteristics such as long hair, wide nose, and thin lips, while others were continuous, like forehead width and height.\n",
    "\n",
    "During data cleaning, we standardized the continuous variables to have a mean of zero and a standard deviation of one, mitigating scale discrepancies. For feature engineering, we explored interactions between features but ultimately decided against including them in the initial models to maintain model simplicity and interpretability."
   ]
  },
  {
   "cell_type": "code",
   "execution_count": 6,
   "id": "b7652aa1",
   "metadata": {
    "execution": {
     "iopub.execute_input": "2024-04-01T07:03:33.957430Z",
     "iopub.status.busy": "2024-04-01T07:03:33.956785Z",
     "iopub.status.idle": "2024-04-01T07:03:35.265096Z",
     "shell.execute_reply": "2024-04-01T07:03:35.263928Z"
    },
    "papermill": {
     "duration": 1.321754,
     "end_time": "2024-04-01T07:03:35.268252",
     "exception": false,
     "start_time": "2024-04-01T07:03:33.946498",
     "status": "completed"
    },
    "tags": []
   },
   "outputs": [],
   "source": [
    "from sklearn.preprocessing import StandardScaler\n",
    "\n",
    "scaler = StandardScaler()\n",
    "continuous_columns = ['forehead_width_cm', 'forehead_height_cm']  # Sürekli değişkenler\n",
    "df[continuous_columns] = scaler.fit_transform(df[continuous_columns])"
   ]
  },
  {
   "cell_type": "code",
   "execution_count": 7,
   "id": "277c66bd",
   "metadata": {
    "execution": {
     "iopub.execute_input": "2024-04-01T07:03:35.288178Z",
     "iopub.status.busy": "2024-04-01T07:03:35.287811Z",
     "iopub.status.idle": "2024-04-01T07:03:35.301827Z",
     "shell.execute_reply": "2024-04-01T07:03:35.300712Z"
    },
    "papermill": {
     "duration": 0.0271,
     "end_time": "2024-04-01T07:03:35.304426",
     "exception": false,
     "start_time": "2024-04-01T07:03:35.277326",
     "status": "completed"
    },
    "tags": []
   },
   "outputs": [
    {
     "data": {
      "text/html": [
       "<div>\n",
       "<style scoped>\n",
       "    .dataframe tbody tr th:only-of-type {\n",
       "        vertical-align: middle;\n",
       "    }\n",
       "\n",
       "    .dataframe tbody tr th {\n",
       "        vertical-align: top;\n",
       "    }\n",
       "\n",
       "    .dataframe thead th {\n",
       "        text-align: right;\n",
       "    }\n",
       "</style>\n",
       "<table border=\"1\" class=\"dataframe\">\n",
       "  <thead>\n",
       "    <tr style=\"text-align: right;\">\n",
       "      <th></th>\n",
       "      <th>long_hair</th>\n",
       "      <th>forehead_width_cm</th>\n",
       "      <th>forehead_height_cm</th>\n",
       "      <th>nose_wide</th>\n",
       "      <th>nose_long</th>\n",
       "      <th>lips_thin</th>\n",
       "      <th>distance_nose_to_lip_long</th>\n",
       "      <th>gender</th>\n",
       "    </tr>\n",
       "  </thead>\n",
       "  <tbody>\n",
       "    <tr>\n",
       "      <th>0</th>\n",
       "      <td>1</td>\n",
       "      <td>-1.247933</td>\n",
       "      <td>0.283971</td>\n",
       "      <td>1</td>\n",
       "      <td>0</td>\n",
       "      <td>1</td>\n",
       "      <td>1</td>\n",
       "      <td>Male</td>\n",
       "    </tr>\n",
       "    <tr>\n",
       "      <th>1</th>\n",
       "      <td>0</td>\n",
       "      <td>0.739389</td>\n",
       "      <td>-1.009418</td>\n",
       "      <td>0</td>\n",
       "      <td>0</td>\n",
       "      <td>1</td>\n",
       "      <td>0</td>\n",
       "      <td>Female</td>\n",
       "    </tr>\n",
       "    <tr>\n",
       "      <th>2</th>\n",
       "      <td>0</td>\n",
       "      <td>-1.247933</td>\n",
       "      <td>0.653511</td>\n",
       "      <td>1</td>\n",
       "      <td>1</td>\n",
       "      <td>1</td>\n",
       "      <td>1</td>\n",
       "      <td>Male</td>\n",
       "    </tr>\n",
       "    <tr>\n",
       "      <th>3</th>\n",
       "      <td>0</td>\n",
       "      <td>1.100720</td>\n",
       "      <td>0.283971</td>\n",
       "      <td>0</td>\n",
       "      <td>1</td>\n",
       "      <td>1</td>\n",
       "      <td>1</td>\n",
       "      <td>Male</td>\n",
       "    </tr>\n",
       "    <tr>\n",
       "      <th>4</th>\n",
       "      <td>1</td>\n",
       "      <td>0.287725</td>\n",
       "      <td>-0.085568</td>\n",
       "      <td>0</td>\n",
       "      <td>0</td>\n",
       "      <td>0</td>\n",
       "      <td>0</td>\n",
       "      <td>Female</td>\n",
       "    </tr>\n",
       "  </tbody>\n",
       "</table>\n",
       "</div>"
      ],
      "text/plain": [
       "   long_hair  forehead_width_cm  forehead_height_cm  nose_wide  nose_long  \\\n",
       "0          1          -1.247933            0.283971          1          0   \n",
       "1          0           0.739389           -1.009418          0          0   \n",
       "2          0          -1.247933            0.653511          1          1   \n",
       "3          0           1.100720            0.283971          0          1   \n",
       "4          1           0.287725           -0.085568          0          0   \n",
       "\n",
       "   lips_thin  distance_nose_to_lip_long  gender  \n",
       "0          1                          1    Male  \n",
       "1          1                          0  Female  \n",
       "2          1                          1    Male  \n",
       "3          1                          1    Male  \n",
       "4          0                          0  Female  "
      ]
     },
     "execution_count": 7,
     "metadata": {},
     "output_type": "execute_result"
    }
   ],
   "source": [
    "df.head()"
   ]
  },
  {
   "cell_type": "code",
   "execution_count": 8,
   "id": "625df747",
   "metadata": {
    "execution": {
     "iopub.execute_input": "2024-04-01T07:03:35.323770Z",
     "iopub.status.busy": "2024-04-01T07:03:35.323406Z",
     "iopub.status.idle": "2024-04-01T07:03:35.328200Z",
     "shell.execute_reply": "2024-04-01T07:03:35.327165Z"
    },
    "papermill": {
     "duration": 0.017465,
     "end_time": "2024-04-01T07:03:35.330863",
     "exception": false,
     "start_time": "2024-04-01T07:03:35.313398",
     "status": "completed"
    },
    "tags": []
   },
   "outputs": [],
   "source": [
    "from sklearn.preprocessing import LabelEncoder"
   ]
  },
  {
   "cell_type": "code",
   "execution_count": 9,
   "id": "87be2804",
   "metadata": {
    "execution": {
     "iopub.execute_input": "2024-04-01T07:03:35.352402Z",
     "iopub.status.busy": "2024-04-01T07:03:35.351514Z",
     "iopub.status.idle": "2024-04-01T07:03:35.358583Z",
     "shell.execute_reply": "2024-04-01T07:03:35.357563Z"
    },
    "papermill": {
     "duration": 0.019355,
     "end_time": "2024-04-01T07:03:35.360659",
     "exception": false,
     "start_time": "2024-04-01T07:03:35.341304",
     "status": "completed"
    },
    "tags": []
   },
   "outputs": [],
   "source": [
    "le = LabelEncoder()\n",
    "df['gender'] = le.fit_transform(df['gender'])  # converts values like 'Male' and 'Female' to 0 and 1"
   ]
  },
  {
   "cell_type": "code",
   "execution_count": 10,
   "id": "06589851",
   "metadata": {
    "execution": {
     "iopub.execute_input": "2024-04-01T07:03:35.380887Z",
     "iopub.status.busy": "2024-04-01T07:03:35.380269Z",
     "iopub.status.idle": "2024-04-01T07:03:36.118690Z",
     "shell.execute_reply": "2024-04-01T07:03:36.117473Z"
    },
    "papermill": {
     "duration": 0.751431,
     "end_time": "2024-04-01T07:03:36.121257",
     "exception": false,
     "start_time": "2024-04-01T07:03:35.369826",
     "status": "completed"
    },
    "tags": []
   },
   "outputs": [
    {
     "data": {
      "text/plain": [
       "<Axes: title={'center': 'gender'}, xlabel='long_hair'>"
      ]
     },
     "execution_count": 10,
     "metadata": {},
     "output_type": "execute_result"
    },
    {
     "data": {
      "image/png": "[encoded data removed]",
      "text/plain": [
       "<Figure size 640x480 with 1 Axes>"
      ]
     },
     "metadata": {},
     "output_type": "display_data"
    }
   ],
   "source": [
    "import seaborn as sns\n",
    "import matplotlib.pyplot as plt\n",
    "\n",
    "df.boxplot(by ='long_hair', column =['gender'], grid = False) "
   ]
  },
  {
   "cell_type": "markdown",
   "id": "66eb9417",
   "metadata": {
    "papermill": {
     "duration": 0.0094,
     "end_time": "2024-04-01T07:03:36.140417",
     "exception": false,
     "start_time": "2024-04-01T07:03:36.131017",
     "status": "completed"
    },
    "tags": []
   },
   "source": [
    "# Model Training and Evaluation\n",
    "Three different classifier models were trained:\n",
    "\n",
    "1. Logistic Regression: Served as the baseline model. It offered a balance between accuracy and interpretability, with a clear understanding of how each feature affects the prediction.\n",
    "\n",
    "1. K-Nearest Neighbors (KNN): This non-linear model was used to explore how a similarity-based approach compares with the baseline. Various values of n_neighbors were tested to find the optimal balance between bias and variance.\n",
    "\n",
    "1. Support Vector Machine (SVM): Employed with an RBF kernel to handle the non-linear relationship between features and the target variable. SVM aimed to maximize the margin between the classification boundaries.\n",
    "\n",
    "Each model used the same train-test split, ensuring consistency in the evaluation metrics. The models were assessed based on accuracy."
   ]
  },
  {
   "cell_type": "code",
   "execution_count": 11,
   "id": "8af69e6f",
   "metadata": {
    "execution": {
     "iopub.execute_input": "2024-04-01T07:03:36.161417Z",
     "iopub.status.busy": "2024-04-01T07:03:36.161034Z",
     "iopub.status.idle": "2024-04-01T07:03:36.277194Z",
     "shell.execute_reply": "2024-04-01T07:03:36.276019Z"
    },
    "papermill": {
     "duration": 0.129984,
     "end_time": "2024-04-01T07:03:36.279960",
     "exception": false,
     "start_time": "2024-04-01T07:03:36.149976",
     "status": "completed"
    },
    "tags": []
   },
   "outputs": [],
   "source": [
    "from sklearn.model_selection import train_test_split\n",
    "\n",
    "# Properties and target variable\n",
    "X = df.drop('gender', axis=1)\n",
    "y = df['gender']\n",
    "\n",
    "# Split into training and test sets\n",
    "X_train, X_test, y_train, y_test = train_test_split(X, y, test_size=0.2, random_state=42)\n"
   ]
  },
  {
   "cell_type": "code",
   "execution_count": 12,
   "id": "8bca7036",
   "metadata": {
    "execution": {
     "iopub.execute_input": "2024-04-01T07:03:36.301257Z",
     "iopub.status.busy": "2024-04-01T07:03:36.300880Z",
     "iopub.status.idle": "2024-04-01T07:03:36.439534Z",
     "shell.execute_reply": "2024-04-01T07:03:36.438056Z"
    },
    "papermill": {
     "duration": 0.153963,
     "end_time": "2024-04-01T07:03:36.443754",
     "exception": false,
     "start_time": "2024-04-01T07:03:36.289791",
     "status": "completed"
    },
    "tags": []
   },
   "outputs": [
    {
     "name": "stdout",
     "output_type": "stream",
     "text": [
      "Doğruluk Oranı: 0.961038961038961\n"
     ]
    }
   ],
   "source": [
    "from sklearn.linear_model import LogisticRegression\n",
    "from sklearn.metrics import accuracy_score\n",
    "\n",
    "# Training Part\n",
    "model = LogisticRegression()\n",
    "model.fit(X_train, y_train)\n",
    "\n",
    "# Accuracy Score\n",
    "predictions = model.predict(X_test)\n",
    "print(\"Doğruluk Oranı:\", accuracy_score(y_test, predictions))\n"
   ]
  },
  {
   "cell_type": "code",
   "execution_count": 13,
   "id": "bc506ff8",
   "metadata": {
    "execution": {
     "iopub.execute_input": "2024-04-01T07:03:36.487909Z",
     "iopub.status.busy": "2024-04-01T07:03:36.487220Z",
     "iopub.status.idle": "2024-04-01T07:03:38.083113Z",
     "shell.execute_reply": "2024-04-01T07:03:38.082086Z"
    },
    "papermill": {
     "duration": 1.622161,
     "end_time": "2024-04-01T07:03:38.086664",
     "exception": false,
     "start_time": "2024-04-01T07:03:36.464503",
     "status": "completed"
    },
    "tags": []
   },
   "outputs": [
    {
     "data": {
      "image/png": "[encoded data removed]",
      "text/plain": [
       "<Figure size 1000x600 with 1 Axes>"
      ]
     },
     "metadata": {},
     "output_type": "display_data"
    }
   ],
   "source": [
    "from sklearn.neighbors import KNeighborsClassifier\n",
    "\n",
    "# A list to store the accuracy rates of different n_neighbors values for the KNN Model\n",
    "neighbors_settings = range(1, 16)\n",
    "scores = []\n",
    "\n",
    "for n_neighbors in neighbors_settings:\n",
    "    # Create the model\n",
    "    knn = KNeighborsClassifier(n_neighbors=n_neighbors)\n",
    "    knn.fit(X_train, y_train)\n",
    "    # Calculate the accuracy of the model\n",
    "    predictions = knn.predict(X_test)\n",
    "    scores.append(accuracy_score(y_test, predictions))\n",
    "\n",
    "# Visualise accuracy rates\n",
    "plt.figure(figsize=(10, 6))\n",
    "plt.plot(neighbors_settings, scores, marker='o')\n",
    "plt.xlabel('n_neighbors')\n",
    "plt.ylabel('Accuracy')\n",
    "plt.title('KNN Model Accuracy for Different Numbers of Neighbors')\n",
    "plt.grid(True)\n",
    "plt.show()"
   ]
  },
  {
   "cell_type": "code",
   "execution_count": 14,
   "id": "1f8af4ac",
   "metadata": {
    "execution": {
     "iopub.execute_input": "2024-04-01T07:03:38.113523Z",
     "iopub.status.busy": "2024-04-01T07:03:38.112288Z",
     "iopub.status.idle": "2024-04-01T07:03:38.197996Z",
     "shell.execute_reply": "2024-04-01T07:03:38.196660Z"
    },
    "papermill": {
     "duration": 0.105319,
     "end_time": "2024-04-01T07:03:38.204376",
     "exception": false,
     "start_time": "2024-04-01T07:03:38.099057",
     "status": "completed"
    },
    "tags": []
   },
   "outputs": [
    {
     "name": "stdout",
     "output_type": "stream",
     "text": [
      "KNN Model Doğruluk Oranı: 0.9630369630369631\n"
     ]
    }
   ],
   "source": [
    "# Training the KNN model\n",
    "knn = KNeighborsClassifier(n_neighbors=5)\n",
    "knn.fit(X_train, y_train)\n",
    "\n",
    "# Forecasts\n",
    "predictions = knn.predict(X_test)\n",
    "\n",
    "# Accuracy rate\n",
    "accuracy = accuracy_score(y_test, predictions)\n",
    "print(\"KNN Model Doğruluk Oranı:\", accuracy)\n"
   ]
  },
  {
   "cell_type": "code",
   "execution_count": 15,
   "id": "eb34c502",
   "metadata": {
    "execution": {
     "iopub.execute_input": "2024-04-01T07:03:38.228513Z",
     "iopub.status.busy": "2024-04-01T07:03:38.228105Z",
     "iopub.status.idle": "2024-04-01T07:03:38.320622Z",
     "shell.execute_reply": "2024-04-01T07:03:38.319281Z"
    },
    "papermill": {
     "duration": 0.109104,
     "end_time": "2024-04-01T07:03:38.324360",
     "exception": false,
     "start_time": "2024-04-01T07:03:38.215256",
     "status": "completed"
    },
    "tags": []
   },
   "outputs": [
    {
     "name": "stdout",
     "output_type": "stream",
     "text": [
      "KNN Model Doğruluk Oranı: 0.9690309690309691\n"
     ]
    }
   ],
   "source": [
    "# Training the KNN model\n",
    "knn = KNeighborsClassifier(n_neighbors=11)\n",
    "knn.fit(X_train, y_train)\n",
    "\n",
    "# Forecasts\n",
    "predictions = knn.predict(X_test)\n",
    "\n",
    "# Accuracy rate\n",
    "accuracy = accuracy_score(y_test, predictions)\n",
    "print(\"KNN Model Doğruluk Oranı:\", accuracy)\n"
   ]
  },
  {
   "cell_type": "code",
   "execution_count": 16,
   "id": "9b9cf44f",
   "metadata": {
    "execution": {
     "iopub.execute_input": "2024-04-01T07:03:38.349064Z",
     "iopub.status.busy": "2024-04-01T07:03:38.348321Z",
     "iopub.status.idle": "2024-04-01T07:03:38.353834Z",
     "shell.execute_reply": "2024-04-01T07:03:38.352622Z"
    },
    "papermill": {
     "duration": 0.020784,
     "end_time": "2024-04-01T07:03:38.356572",
     "exception": false,
     "start_time": "2024-04-01T07:03:38.335788",
     "status": "completed"
    },
    "tags": []
   },
   "outputs": [],
   "source": [
    "from sklearn.preprocessing import StandardScaler\n",
    "from sklearn.svm import SVC"
   ]
  },
  {
   "cell_type": "code",
   "execution_count": 17,
   "id": "f88d927a",
   "metadata": {
    "execution": {
     "iopub.execute_input": "2024-04-01T07:03:38.381494Z",
     "iopub.status.busy": "2024-04-01T07:03:38.380458Z",
     "iopub.status.idle": "2024-04-01T07:03:38.479613Z",
     "shell.execute_reply": "2024-04-01T07:03:38.478391Z"
    },
    "papermill": {
     "duration": 0.114419,
     "end_time": "2024-04-01T07:03:38.482318",
     "exception": false,
     "start_time": "2024-04-01T07:03:38.367899",
     "status": "completed"
    },
    "tags": []
   },
   "outputs": [
    {
     "name": "stdout",
     "output_type": "stream",
     "text": [
      "SVM Model Doğruluk Oranı: 0.968031968031968\n"
     ]
    }
   ],
   "source": [
    "# Training the SVM model\n",
    "svm_model = SVC(kernel='rbf')\n",
    "svm_model.fit(X_train, y_train)\n",
    "\n",
    "# Forecasts\n",
    "predictions = svm_model.predict(X_test)\n",
    "\n",
    "# Accuracy rate\n",
    "accuracy = accuracy_score(y_test, predictions)\n",
    "print(\"SVM Model Doğruluk Oranı:\", accuracy)"
   ]
  },
  {
   "cell_type": "markdown",
   "id": "5616d06f",
   "metadata": {
    "papermill": {
     "duration": 0.010715,
     "end_time": "2024-04-01T07:03:38.504075",
     "exception": false,
     "start_time": "2024-04-01T07:03:38.493360",
     "status": "completed"
    },
    "tags": []
   },
   "source": [
    "# Recommended Model\n",
    "Based on the performance metrics evaluated, the K-Nearest Neighbors (KNN) model with n=11 neighbors is recommended as the optimal choice for our gender classification project. This model achieved the highest accuracy rate of 96.903%, indicating a superior ability to generalize and make accurate predictions on unseen data compared to the other models tested.\n",
    "\n",
    "While the Logistic Regression model offered valuable insights due to its interpretability and the SVM model demonstrated competitive accuracy, the slight edge in performance by the KNN model suggests it as the most suitable option for this specific application. It's important to note, however, that the choice of KNN comes with considerations regarding computational efficiency and model complexity, especially with large datasets.\n",
    "\n",
    "In summary, the KNN model's balance of high accuracy and the model's simplicity in understanding the underlying patterns in the data makes it the recommended model for stakeholders aiming to leverage gender classification in practical applications."
   ]
  },
  {
   "cell_type": "markdown",
   "id": "2b0f4cd6",
   "metadata": {
    "papermill": {
     "duration": 0.011026,
     "end_time": "2024-04-01T07:03:38.525999",
     "exception": false,
     "start_time": "2024-04-01T07:03:38.514973",
     "status": "completed"
    },
    "tags": []
   },
   "source": [
    "# Key Findings and Insights\n",
    "The analysis of the gender classification dataset using different machine learning models has provided several key insights:\n",
    "\n",
    "High Predictive Accuracy: All models tested, including Logistic Regression, SVM, and KNN, demonstrated high predictive accuracy, with KNN (n=11) slightly outperforming the others. This indicates that the selected features are significant predictors of gender.\n",
    "\n",
    "Importance of Feature Selection: The models' success underscores the importance of the chosen features (such as long hair, forehead width, and nose width) in gender classification. These features likely capture essential differences between genders, as evidenced by the models' performance.\n",
    "\n",
    "Model Complexity vs. Performance: The slight differences in accuracy among the models suggest a trade-off between model complexity and performance. While KNN and SVM provide high accuracy, Logistic Regression offers ease of interpretation and understanding of feature importance.\n",
    "\n",
    "Scalability Considerations: The choice of KNN, although slightly more accurate, might pose scalability issues with larger datasets due to its computationally intensive nature. This highlights the need to balance accuracy with computational efficiency in practical applications."
   ]
  },
  {
   "cell_type": "markdown",
   "id": "7fbeecb7",
   "metadata": {
    "papermill": {
     "duration": 0.011014,
     "end_time": "2024-04-01T07:03:38.548066",
     "exception": false,
     "start_time": "2024-04-01T07:03:38.537052",
     "status": "completed"
    },
    "tags": []
   },
   "source": [
    "# Suggestions for Next Steps\n",
    "To build upon the current analysis and further improve the gender classification model, the following steps are recommended:\n",
    "\n",
    "Feature Engineering: Investigate additional features or interactions between features that may improve the model's predictive power. For example, combining forehead width and height into a new feature could capture more nuanced patterns.\n",
    "\n",
    "Advanced Models: Explore more advanced machine learning techniques, such as ensemble methods (Random Forest, Gradient Boosting) or deep learning models, which might offer improvements in accuracy and generalizability.\n",
    "\n",
    "Cross-validation: Implement cross-validation techniques to assess the models' performance more robustly. This will help ensure that the chosen model performs well across different subsets of the data.\n",
    "\n",
    "Hyperparameter Tuning: For the chosen KNN model, further tuning of the n_neighbors parameter, along with other parameters such as the metric for distance calculation, could yield better performance.\n",
    "\n",
    "Addressing Scalability: For applications requiring scalability to larger datasets, consider techniques to reduce the computational cost of the KNN model, such as dimensionality reduction, or explore more computationally efficient models that still offer high accuracy.\n",
    "\n",
    "User Feedback Loop: Incorporate a feedback mechanism to continuously update the model based on new data or user feedback. This will help the model adapt to changing patterns over time.\n",
    "\n",
    "By following these suggestions, the project can continue to evolve, improving its accuracy and utility in gender classification tasks."
   ]
  }
 ],
 "metadata": {
  "kaggle": {
   "accelerator": "none",
   "dataSources": [
    {
     "datasetId": 908128,
     "sourceId": 1539868,
     "sourceType": "datasetVersion"
    }
   ],
   "dockerImageVersionId": 30673,
   "isGpuEnabled": false,
   "isInternetEnabled": true,
   "language": "python",
   "sourceType": "notebook"
  },
  "kernelspec": {
   "display_name": "Python 3",
   "language": "python",
   "name": "python3"
  },
  "language_info": {
   "codemirror_mode": {
    "name": "ipython",
    "version": 3
   },
   "file_extension": ".py",
   "mimetype": "text/x-python",
   "name": "python",
   "nbconvert_exporter": "python",
   "pygments_lexer": "ipython3",
   "version": "3.10.13"
  },
  "papermill": {
   "default_parameters": {},
   "duration": 9.422184,
   "end_time": "2024-04-01T07:03:39.179643",
   "environment_variables": {},
   "exception": null,
   "input_path": "__notebook__.ipynb",
   "output_path": "__notebook__.ipynb",
   "parameters": {},
   "start_time": "2024-04-01T07:03:29.757459",
   "version": "2.5.0"
  }
 },
 "nbformat": 4,
 "nbformat_minor": 5
}
